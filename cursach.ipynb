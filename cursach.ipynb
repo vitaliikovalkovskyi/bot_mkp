{
  "nbformat": 4,
  "nbformat_minor": 0,
  "metadata": {
    "colab": {
      "provenance": []
    },
    "kernelspec": {
      "name": "python3",
      "display_name": "Python 3"
    },
    "language_info": {
      "name": "python"
    }
  },
  "cells": [
    {
      "cell_type": "code",
      "source": [
        "import pandas as pd\n",
        "import matplotlib.pyplot as plt\n",
        "import seaborn as sns\n",
        "import numpy as np\n",
        "from mpl_toolkits.mplot3d import Axes3D\n",
        "import scipy.stats as stats\n",
        "import re\n",
        "\n",
        "\n",
        "import statsmodels.api as sm"
      ],
      "metadata": {
        "id": "BTi8Z6_cvIE0"
      },
      "execution_count": null,
      "outputs": []
    },
    {
      "cell_type": "code",
      "execution_count": null,
      "metadata": {
        "colab": {
          "base_uri": "https://localhost:8080/",
          "height": 424
        },
        "id": "48ouGmOsu0ul",
        "outputId": "3447a833-5851-4323-b2eb-33c29d827059"
      },
      "outputs": [
        {
          "output_type": "display_data",
          "data": {
            "text/plain": [
              "     age  gender education_level                      job_title  \\\n",
              "0     32    Male      Bachelor's              Software Engineer   \n",
              "1     28  Female        Master's                   Data Analyst   \n",
              "2     45    Male             PhD                 Senior Manager   \n",
              "3     36  Female      Bachelor's                Sales Associate   \n",
              "4     52    Male        Master's                       Director   \n",
              "..   ...     ...             ...                            ...   \n",
              "368   35  Female      Bachelor's       Senior Marketing Analyst   \n",
              "369   43    Male        Master's         Director of Operations   \n",
              "370   29  Female      Bachelor's         Junior Project Manager   \n",
              "371   34    Male      Bachelor's  Senior Operations Coordinator   \n",
              "372   44  Female             PhD        Senior Business Analyst   \n",
              "\n",
              "     years_of_experience  salary        date  emotional_satisfaction  \n",
              "0                    5.0   90000  01.01.2015                3.000000  \n",
              "1                    3.0   65000  01.01.2015                1.500000  \n",
              "2                   15.0  150000  01.01.2015                7.500000  \n",
              "3                    7.0   60000  01.01.2015                1.000000  \n",
              "4                   20.0  200000  01.02.2015               10.000000  \n",
              "..                   ...     ...         ...                     ...  \n",
              "368                  8.0   85000  01.09.2022                2.666667  \n",
              "369                 19.0  170000  01.09.2022                8.500000  \n",
              "370                  2.0   40000  01.10.2022               -1.000000  \n",
              "371                  7.0   90000  01.10.2022                3.000000  \n",
              "372                 15.0  150000  01.10.2022                7.500000  \n",
              "\n",
              "[373 rows x 8 columns]"
            ],
            "text/html": [
              "\n",
              "  <div id=\"df-a7d1713c-986b-46f8-a9a5-c538912ff92e\" class=\"colab-df-container\">\n",
              "    <div>\n",
              "<style scoped>\n",
              "    .dataframe tbody tr th:only-of-type {\n",
              "        vertical-align: middle;\n",
              "    }\n",
              "\n",
              "    .dataframe tbody tr th {\n",
              "        vertical-align: top;\n",
              "    }\n",
              "\n",
              "    .dataframe thead th {\n",
              "        text-align: right;\n",
              "    }\n",
              "</style>\n",
              "<table border=\"1\" class=\"dataframe\">\n",
              "  <thead>\n",
              "    <tr style=\"text-align: right;\">\n",
              "      <th></th>\n",
              "      <th>age</th>\n",
              "      <th>gender</th>\n",
              "      <th>education_level</th>\n",
              "      <th>job_title</th>\n",
              "      <th>years_of_experience</th>\n",
              "      <th>salary</th>\n",
              "      <th>date</th>\n",
              "      <th>emotional_satisfaction</th>\n",
              "    </tr>\n",
              "  </thead>\n",
              "  <tbody>\n",
              "    <tr>\n",
              "      <th>0</th>\n",
              "      <td>32</td>\n",
              "      <td>Male</td>\n",
              "      <td>Bachelor's</td>\n",
              "      <td>Software Engineer</td>\n",
              "      <td>5.0</td>\n",
              "      <td>90000</td>\n",
              "      <td>01.01.2015</td>\n",
              "      <td>3.000000</td>\n",
              "    </tr>\n",
              "    <tr>\n",
              "      <th>1</th>\n",
              "      <td>28</td>\n",
              "      <td>Female</td>\n",
              "      <td>Master's</td>\n",
              "      <td>Data Analyst</td>\n",
              "      <td>3.0</td>\n",
              "      <td>65000</td>\n",
              "      <td>01.01.2015</td>\n",
              "      <td>1.500000</td>\n",
              "    </tr>\n",
              "    <tr>\n",
              "      <th>2</th>\n",
              "      <td>45</td>\n",
              "      <td>Male</td>\n",
              "      <td>PhD</td>\n",
              "      <td>Senior Manager</td>\n",
              "      <td>15.0</td>\n",
              "      <td>150000</td>\n",
              "      <td>01.01.2015</td>\n",
              "      <td>7.500000</td>\n",
              "    </tr>\n",
              "    <tr>\n",
              "      <th>3</th>\n",
              "      <td>36</td>\n",
              "      <td>Female</td>\n",
              "      <td>Bachelor's</td>\n",
              "      <td>Sales Associate</td>\n",
              "      <td>7.0</td>\n",
              "      <td>60000</td>\n",
              "      <td>01.01.2015</td>\n",
              "      <td>1.000000</td>\n",
              "    </tr>\n",
              "    <tr>\n",
              "      <th>4</th>\n",
              "      <td>52</td>\n",
              "      <td>Male</td>\n",
              "      <td>Master's</td>\n",
              "      <td>Director</td>\n",
              "      <td>20.0</td>\n",
              "      <td>200000</td>\n",
              "      <td>01.02.2015</td>\n",
              "      <td>10.000000</td>\n",
              "    </tr>\n",
              "    <tr>\n",
              "      <th>...</th>\n",
              "      <td>...</td>\n",
              "      <td>...</td>\n",
              "      <td>...</td>\n",
              "      <td>...</td>\n",
              "      <td>...</td>\n",
              "      <td>...</td>\n",
              "      <td>...</td>\n",
              "      <td>...</td>\n",
              "    </tr>\n",
              "    <tr>\n",
              "      <th>368</th>\n",
              "      <td>35</td>\n",
              "      <td>Female</td>\n",
              "      <td>Bachelor's</td>\n",
              "      <td>Senior Marketing Analyst</td>\n",
              "      <td>8.0</td>\n",
              "      <td>85000</td>\n",
              "      <td>01.09.2022</td>\n",
              "      <td>2.666667</td>\n",
              "    </tr>\n",
              "    <tr>\n",
              "      <th>369</th>\n",
              "      <td>43</td>\n",
              "      <td>Male</td>\n",
              "      <td>Master's</td>\n",
              "      <td>Director of Operations</td>\n",
              "      <td>19.0</td>\n",
              "      <td>170000</td>\n",
              "      <td>01.09.2022</td>\n",
              "      <td>8.500000</td>\n",
              "    </tr>\n",
              "    <tr>\n",
              "      <th>370</th>\n",
              "      <td>29</td>\n",
              "      <td>Female</td>\n",
              "      <td>Bachelor's</td>\n",
              "      <td>Junior Project Manager</td>\n",
              "      <td>2.0</td>\n",
              "      <td>40000</td>\n",
              "      <td>01.10.2022</td>\n",
              "      <td>-1.000000</td>\n",
              "    </tr>\n",
              "    <tr>\n",
              "      <th>371</th>\n",
              "      <td>34</td>\n",
              "      <td>Male</td>\n",
              "      <td>Bachelor's</td>\n",
              "      <td>Senior Operations Coordinator</td>\n",
              "      <td>7.0</td>\n",
              "      <td>90000</td>\n",
              "      <td>01.10.2022</td>\n",
              "      <td>3.000000</td>\n",
              "    </tr>\n",
              "    <tr>\n",
              "      <th>372</th>\n",
              "      <td>44</td>\n",
              "      <td>Female</td>\n",
              "      <td>PhD</td>\n",
              "      <td>Senior Business Analyst</td>\n",
              "      <td>15.0</td>\n",
              "      <td>150000</td>\n",
              "      <td>01.10.2022</td>\n",
              "      <td>7.500000</td>\n",
              "    </tr>\n",
              "  </tbody>\n",
              "</table>\n",
              "<p>373 rows × 8 columns</p>\n",
              "</div>\n",
              "    <div class=\"colab-df-buttons\">\n",
              "\n",
              "  <div class=\"colab-df-container\">\n",
              "    <button class=\"colab-df-convert\" onclick=\"convertToInteractive('df-a7d1713c-986b-46f8-a9a5-c538912ff92e')\"\n",
              "            title=\"Convert this dataframe to an interactive table.\"\n",
              "            style=\"display:none;\">\n",
              "\n",
              "  <svg xmlns=\"http://www.w3.org/2000/svg\" height=\"24px\" viewBox=\"0 -960 960 960\">\n",
              "    <path d=\"M120-120v-720h720v720H120Zm60-500h600v-160H180v160Zm220 220h160v-160H400v160Zm0 220h160v-160H400v160ZM180-400h160v-160H180v160Zm440 0h160v-160H620v160ZM180-180h160v-160H180v160Zm440 0h160v-160H620v160Z\"/>\n",
              "  </svg>\n",
              "    </button>\n",
              "\n",
              "  <style>\n",
              "    .colab-df-container {\n",
              "      display:flex;\n",
              "      gap: 12px;\n",
              "    }\n",
              "\n",
              "    .colab-df-convert {\n",
              "      background-color: #E8F0FE;\n",
              "      border: none;\n",
              "      border-radius: 50%;\n",
              "      cursor: pointer;\n",
              "      display: none;\n",
              "      fill: #1967D2;\n",
              "      height: 32px;\n",
              "      padding: 0 0 0 0;\n",
              "      width: 32px;\n",
              "    }\n",
              "\n",
              "    .colab-df-convert:hover {\n",
              "      background-color: #E2EBFA;\n",
              "      box-shadow: 0px 1px 2px rgba(60, 64, 67, 0.3), 0px 1px 3px 1px rgba(60, 64, 67, 0.15);\n",
              "      fill: #174EA6;\n",
              "    }\n",
              "\n",
              "    .colab-df-buttons div {\n",
              "      margin-bottom: 4px;\n",
              "    }\n",
              "\n",
              "    [theme=dark] .colab-df-convert {\n",
              "      background-color: #3B4455;\n",
              "      fill: #D2E3FC;\n",
              "    }\n",
              "\n",
              "    [theme=dark] .colab-df-convert:hover {\n",
              "      background-color: #434B5C;\n",
              "      box-shadow: 0px 1px 3px 1px rgba(0, 0, 0, 0.15);\n",
              "      filter: drop-shadow(0px 1px 2px rgba(0, 0, 0, 0.3));\n",
              "      fill: #FFFFFF;\n",
              "    }\n",
              "  </style>\n",
              "\n",
              "    <script>\n",
              "      const buttonEl =\n",
              "        document.querySelector('#df-a7d1713c-986b-46f8-a9a5-c538912ff92e button.colab-df-convert');\n",
              "      buttonEl.style.display =\n",
              "        google.colab.kernel.accessAllowed ? 'block' : 'none';\n",
              "\n",
              "      async function convertToInteractive(key) {\n",
              "        const element = document.querySelector('#df-a7d1713c-986b-46f8-a9a5-c538912ff92e');\n",
              "        const dataTable =\n",
              "          await google.colab.kernel.invokeFunction('convertToInteractive',\n",
              "                                                    [key], {});\n",
              "        if (!dataTable) return;\n",
              "\n",
              "        const docLinkHtml = 'Like what you see? Visit the ' +\n",
              "          '<a target=\"_blank\" href=https://colab.research.google.com/notebooks/data_table.ipynb>data table notebook</a>'\n",
              "          + ' to learn more about interactive tables.';\n",
              "        element.innerHTML = '';\n",
              "        dataTable['output_type'] = 'display_data';\n",
              "        await google.colab.output.renderOutput(dataTable, element);\n",
              "        const docLink = document.createElement('div');\n",
              "        docLink.innerHTML = docLinkHtml;\n",
              "        element.appendChild(docLink);\n",
              "      }\n",
              "    </script>\n",
              "  </div>\n",
              "\n",
              "\n",
              "<div id=\"df-bfced113-3755-47ad-a908-6f668b41efb3\">\n",
              "  <button class=\"colab-df-quickchart\" onclick=\"quickchart('df-bfced113-3755-47ad-a908-6f668b41efb3')\"\n",
              "            title=\"Suggest charts\"\n",
              "            style=\"display:none;\">\n",
              "\n",
              "<svg xmlns=\"http://www.w3.org/2000/svg\" height=\"24px\"viewBox=\"0 0 24 24\"\n",
              "     width=\"24px\">\n",
              "    <g>\n",
              "        <path d=\"M19 3H5c-1.1 0-2 .9-2 2v14c0 1.1.9 2 2 2h14c1.1 0 2-.9 2-2V5c0-1.1-.9-2-2-2zM9 17H7v-7h2v7zm4 0h-2V7h2v10zm4 0h-2v-4h2v4z\"/>\n",
              "    </g>\n",
              "</svg>\n",
              "  </button>\n",
              "\n",
              "<style>\n",
              "  .colab-df-quickchart {\n",
              "      --bg-color: #E8F0FE;\n",
              "      --fill-color: #1967D2;\n",
              "      --hover-bg-color: #E2EBFA;\n",
              "      --hover-fill-color: #174EA6;\n",
              "      --disabled-fill-color: #AAA;\n",
              "      --disabled-bg-color: #DDD;\n",
              "  }\n",
              "\n",
              "  [theme=dark] .colab-df-quickchart {\n",
              "      --bg-color: #3B4455;\n",
              "      --fill-color: #D2E3FC;\n",
              "      --hover-bg-color: #434B5C;\n",
              "      --hover-fill-color: #FFFFFF;\n",
              "      --disabled-bg-color: #3B4455;\n",
              "      --disabled-fill-color: #666;\n",
              "  }\n",
              "\n",
              "  .colab-df-quickchart {\n",
              "    background-color: var(--bg-color);\n",
              "    border: none;\n",
              "    border-radius: 50%;\n",
              "    cursor: pointer;\n",
              "    display: none;\n",
              "    fill: var(--fill-color);\n",
              "    height: 32px;\n",
              "    padding: 0;\n",
              "    width: 32px;\n",
              "  }\n",
              "\n",
              "  .colab-df-quickchart:hover {\n",
              "    background-color: var(--hover-bg-color);\n",
              "    box-shadow: 0 1px 2px rgba(60, 64, 67, 0.3), 0 1px 3px 1px rgba(60, 64, 67, 0.15);\n",
              "    fill: var(--button-hover-fill-color);\n",
              "  }\n",
              "\n",
              "  .colab-df-quickchart-complete:disabled,\n",
              "  .colab-df-quickchart-complete:disabled:hover {\n",
              "    background-color: var(--disabled-bg-color);\n",
              "    fill: var(--disabled-fill-color);\n",
              "    box-shadow: none;\n",
              "  }\n",
              "\n",
              "  .colab-df-spinner {\n",
              "    border: 2px solid var(--fill-color);\n",
              "    border-color: transparent;\n",
              "    border-bottom-color: var(--fill-color);\n",
              "    animation:\n",
              "      spin 1s steps(1) infinite;\n",
              "  }\n",
              "\n",
              "  @keyframes spin {\n",
              "    0% {\n",
              "      border-color: transparent;\n",
              "      border-bottom-color: var(--fill-color);\n",
              "      border-left-color: var(--fill-color);\n",
              "    }\n",
              "    20% {\n",
              "      border-color: transparent;\n",
              "      border-left-color: var(--fill-color);\n",
              "      border-top-color: var(--fill-color);\n",
              "    }\n",
              "    30% {\n",
              "      border-color: transparent;\n",
              "      border-left-color: var(--fill-color);\n",
              "      border-top-color: var(--fill-color);\n",
              "      border-right-color: var(--fill-color);\n",
              "    }\n",
              "    40% {\n",
              "      border-color: transparent;\n",
              "      border-right-color: var(--fill-color);\n",
              "      border-top-color: var(--fill-color);\n",
              "    }\n",
              "    60% {\n",
              "      border-color: transparent;\n",
              "      border-right-color: var(--fill-color);\n",
              "    }\n",
              "    80% {\n",
              "      border-color: transparent;\n",
              "      border-right-color: var(--fill-color);\n",
              "      border-bottom-color: var(--fill-color);\n",
              "    }\n",
              "    90% {\n",
              "      border-color: transparent;\n",
              "      border-bottom-color: var(--fill-color);\n",
              "    }\n",
              "  }\n",
              "</style>\n",
              "\n",
              "  <script>\n",
              "    async function quickchart(key) {\n",
              "      const quickchartButtonEl =\n",
              "        document.querySelector('#' + key + ' button');\n",
              "      quickchartButtonEl.disabled = true;  // To prevent multiple clicks.\n",
              "      quickchartButtonEl.classList.add('colab-df-spinner');\n",
              "      try {\n",
              "        const charts = await google.colab.kernel.invokeFunction(\n",
              "            'suggestCharts', [key], {});\n",
              "      } catch (error) {\n",
              "        console.error('Error during call to suggestCharts:', error);\n",
              "      }\n",
              "      quickchartButtonEl.classList.remove('colab-df-spinner');\n",
              "      quickchartButtonEl.classList.add('colab-df-quickchart-complete');\n",
              "    }\n",
              "    (() => {\n",
              "      let quickchartButtonEl =\n",
              "        document.querySelector('#df-bfced113-3755-47ad-a908-6f668b41efb3 button');\n",
              "      quickchartButtonEl.style.display =\n",
              "        google.colab.kernel.accessAllowed ? 'block' : 'none';\n",
              "    })();\n",
              "  </script>\n",
              "</div>\n",
              "    </div>\n",
              "  </div>\n"
            ]
          },
          "metadata": {}
        }
      ],
      "source": [
        "sns.set(style=\"darkgrid\")\n",
        "df = pd.read_excel('/content/drive/MyDrive/Salary_Data.xlsx')\n",
        "display(df)"
      ]
    },
    {
      "cell_type": "code",
      "source": [
        "df.info()"
      ],
      "metadata": {
        "colab": {
          "base_uri": "https://localhost:8080/"
        },
        "id": "FRZy-WBu8KVB",
        "outputId": "2708b80e-f53e-4a2c-f4fc-70f3ed57ebf7"
      },
      "execution_count": null,
      "outputs": [
        {
          "output_type": "stream",
          "name": "stdout",
          "text": [
            "<class 'pandas.core.frame.DataFrame'>\n",
            "RangeIndex: 373 entries, 0 to 372\n",
            "Data columns (total 8 columns):\n",
            " #   Column                  Non-Null Count  Dtype  \n",
            "---  ------                  --------------  -----  \n",
            " 0   age                     373 non-null    int64  \n",
            " 1   gender                  373 non-null    object \n",
            " 2   education_level         373 non-null    object \n",
            " 3   job_title               373 non-null    object \n",
            " 4   years_of_experience     373 non-null    float64\n",
            " 5   salary                  373 non-null    int64  \n",
            " 6   date                    373 non-null    object \n",
            " 7   emotional_satisfaction  373 non-null    float64\n",
            "dtypes: float64(2), int64(2), object(4)\n",
            "memory usage: 23.4+ KB\n"
          ]
        }
      ]
    },
    {
      "cell_type": "code",
      "source": [
        "print(\"Кількість рядків, що повторяється\", df[df.duplicated()].shape)"
      ],
      "metadata": {
        "colab": {
          "base_uri": "https://localhost:8080/"
        },
        "id": "jfxhzzjg8vMl",
        "outputId": "86a7b9cd-a284-4373-9679-9ff63de9b26b"
      },
      "execution_count": null,
      "outputs": [
        {
          "output_type": "stream",
          "name": "stdout",
          "text": [
            "Кількість рядків, що повторяється (0, 8)\n"
          ]
        }
      ]
    },
    {
      "cell_type": "code",
      "source": [
        "df = df.drop_duplicates()\n"
      ],
      "metadata": {
        "id": "j622DaJQ9Dvl"
      },
      "execution_count": null,
      "outputs": []
    },
    {
      "cell_type": "code",
      "source": [
        "print(\"Кількість рядків з нульовими значенями\", df[df.isnull()].shape)"
      ],
      "metadata": {
        "colab": {
          "base_uri": "https://localhost:8080/"
        },
        "id": "4W5IPwDp9Ne_",
        "outputId": "42147b3b-22de-4d4a-e989-4682f87595a8"
      },
      "execution_count": null,
      "outputs": [
        {
          "output_type": "stream",
          "name": "stdout",
          "text": [
            "Кількість рядків з нульовими значенями (373, 8)\n"
          ]
        }
      ]
    },
    {
      "cell_type": "code",
      "source": [
        "a = df['salary']\n",
        "\n",
        "mean = np.mean(a)\n",
        "median = np.median(a)\n",
        "mode = stats.mode(a)\n",
        "varience = np.var(a)\n",
        "std_deviation = np.std(a)\n",
        "\n",
        "print(f\"Середнє: {mean:.2f}\")\n",
        "print(f\"Мода: {mode}\")\n",
        "print(f\"Дисперсія: {varience:.2f}\")\n",
        "print(f\"Стандартне відхилення: {std_deviation:.2f}\")\n",
        "\n"
      ],
      "metadata": {
        "colab": {
          "base_uri": "https://localhost:8080/"
        },
        "id": "oIE5Vmw_-Lw2",
        "outputId": "3a3bad91-cc47-4ad3-fa53-1906096c2145"
      },
      "execution_count": null,
      "outputs": [
        {
          "output_type": "stream",
          "name": "stdout",
          "text": [
            "Середнє: 100577.35\n",
            "Мода: ModeResult(mode=40000, count=31)\n",
            "Дисперсія: 2320860029.68\n",
            "Стандартне відхилення: 48175.31\n"
          ]
        }
      ]
    },
    {
      "cell_type": "code",
      "source": [
        "import matplotlib.pyplot as plt\n",
        "\n",
        "plt.figure(figsize=(12, 6))\n",
        "\n",
        "plt.subplot(1, 2, 1)\n",
        "plt.hist(a[a > 30000], bins=20, edgecolor='k')\n",
        "plt.xlabel('Value')\n",
        "plt.ylabel('Frequency')\n",
        "plt.title('Гістограма')\n",
        "\n",
        "plt.show()\n"
      ],
      "metadata": {
        "colab": {
          "base_uri": "https://localhost:8080/",
          "height": 573
        },
        "id": "zfCaYeHL-Fbh",
        "outputId": "80368c24-c9fa-4eaa-e668-7b4b7698de0d"
      },
      "execution_count": null,
      "outputs": [
        {
          "output_type": "display_data",
          "data": {
            "text/plain": [
              "<Figure size 1200x600 with 1 Axes>"
            ],
            "image/png": "[encoded data removed]"
          },
          "metadata": {}
        }
      ]
    },
    {
      "cell_type": "code",
      "source": [
        "plt.subplot(2, 1, 2)\n",
        "stats.probplot(a, dist=\"norm\", plot=plt)\n",
        "plt.title('Q-Q plot')\n",
        "\n",
        "plt.show()"
      ],
      "metadata": {
        "colab": {
          "base_uri": "https://localhost:8080/",
          "height": 279
        },
        "id": "5ppmTsUJCCFI",
        "outputId": "df4f6b41-b481-46e2-f917-d4e460ceb586"
      },
      "execution_count": null,
      "outputs": [
        {
          "output_type": "display_data",
          "data": {
            "text/plain": [
              "<Figure size 640x480 with 1 Axes>"
            ],
            "image/png": "[encoded data removed]"
          },
          "metadata": {}
        }
      ]
    },
    {
      "cell_type": "code",
      "source": [
        "pearson_corr = df.corr(method='pearson')\n",
        "spearman_corr = df.corr(method='spearman')\n",
        "kendall_corr = df.corr(method='kendall')\n",
        "\n",
        "print(\"Кореляція Пірсона:\")\n",
        "print(pearson_corr,'\\n')\n",
        "print(\"Кореляція Спірмена:\")\n",
        "print(spearman_corr, '\\n')\n",
        "print(\"Кореляція Кендала:\")\n",
        "print(kendall_corr,'\\n')"
      ],
      "metadata": {
        "colab": {
          "base_uri": "https://localhost:8080/"
        },
        "id": "R4yIX5W2Dc_v",
        "outputId": "8e9caf18-f528-46be-a1fe-67c0ad6149bb"
      },
      "execution_count": null,
      "outputs": [
        {
          "output_type": "stream",
          "name": "stdout",
          "text": [
            "Кореляція Пірсона:\n",
            "                             age  years_of_experience    salary  \\\n",
            "age                     1.000000             0.979128  0.922335   \n",
            "years_of_experience     0.979128             1.000000  0.930338   \n",
            "salary                  0.922335             0.930338  1.000000   \n",
            "emotional_satisfaction  0.943603             0.947632  0.983140   \n",
            "\n",
            "                        emotional_satisfaction  \n",
            "age                                   0.943603  \n",
            "years_of_experience                   0.947632  \n",
            "salary                                0.983140  \n",
            "emotional_satisfaction                1.000000   \n",
            "\n",
            "Кореляція Спірмена:\n",
            "                             age  years_of_experience    salary  \\\n",
            "age                     1.000000             0.982991  0.932182   \n",
            "years_of_experience     0.982991             1.000000  0.940523   \n",
            "salary                  0.932182             0.940523  1.000000   \n",
            "emotional_satisfaction  0.949116             0.959038  0.993357   \n",
            "\n",
            "                        emotional_satisfaction  \n",
            "age                                   0.949116  \n",
            "years_of_experience                   0.959038  \n",
            "salary                                0.993357  \n",
            "emotional_satisfaction                1.000000   \n",
            "\n",
            "Кореляція Кендала:\n",
            "                             age  years_of_experience    salary  \\\n",
            "age                     1.000000             0.914417  0.800974   \n",
            "years_of_experience     0.914417             1.000000  0.824300   \n",
            "salary                  0.800974             0.824300  1.000000   \n",
            "emotional_satisfaction  0.829178             0.854493  0.970019   \n",
            "\n",
            "                        emotional_satisfaction  \n",
            "age                                   0.829178  \n",
            "years_of_experience                   0.854493  \n",
            "salary                                0.970019  \n",
            "emotional_satisfaction                1.000000   \n",
            "\n"
          ]
        },
        {
          "output_type": "stream",
          "name": "stderr",
          "text": [
            "<ipython-input-35-ee6bbee5a49e>:1: FutureWarning: The default value of numeric_only in DataFrame.corr is deprecated. In a future version, it will default to False. Select only valid columns or specify the value of numeric_only to silence this warning.\n",
            "  pearson_corr = df.corr(method='pearson')\n",
            "<ipython-input-35-ee6bbee5a49e>:2: FutureWarning: The default value of numeric_only in DataFrame.corr is deprecated. In a future version, it will default to False. Select only valid columns or specify the value of numeric_only to silence this warning.\n",
            "  spearman_corr = df.corr(method='spearman')\n",
            "<ipython-input-35-ee6bbee5a49e>:3: FutureWarning: The default value of numeric_only in DataFrame.corr is deprecated. In a future version, it will default to False. Select only valid columns or specify the value of numeric_only to silence this warning.\n",
            "  kendall_corr = df.corr(method='kendall')\n"
          ]
        }
      ]
    },
    {
      "cell_type": "code",
      "source": [
        "corr_matrix = df.corr()\n",
        "plt.figure(figsize=(10,8))\n",
        "sns.heatmap(corr_matrix, annot = True, cmap='coolwarm', linewidths=0.5)\n",
        "plt.title('Теплокарта кореляції')\n",
        "plt.show()"
      ],
      "metadata": {
        "colab": {
          "base_uri": "https://localhost:8080/",
          "height": 739
        },
        "id": "iMzZViEEEQXo",
        "outputId": "137a43c0-dd43-4523-84f3-b4ef3366f70c"
      },
      "execution_count": null,
      "outputs": [
        {
          "output_type": "stream",
          "name": "stderr",
          "text": [
            "<ipython-input-36-f9a1610ed147>:1: FutureWarning: The default value of numeric_only in DataFrame.corr is deprecated. In a future version, it will default to False. Select only valid columns or specify the value of numeric_only to silence this warning.\n",
            "  corr_matrix = df.corr()\n"
          ]
        },
        {
          "output_type": "display_data",
          "data": {
            "text/plain": [
              "<Figure size 1000x800 with 2 Axes>"
            ],
            "image/png": "[encoded data removed]"
          },
          "metadata": {}
        }
      ]
    },
    {
      "cell_type": "code",
      "source": [
        "import pandas as pd\n",
        "from sklearn.model_selection import train_test_split\n",
        "from sklearn.ensemble import RandomForestRegressor\n",
        "from sklearn.metrics import mean_squared_error, r2_score\n",
        "\n",
        "# Завантаження даних\n",
        "# df = pd.read_csv(\"Salary Data.csv\")  # Переконайтеся, що ви завантажили ваш датасет\n",
        "# Вибірка ознак та цільової змінної\n",
        "columns_to_drop = [\"age\", \"years_of_experience\", \"emotional_satisfaction\", \"gender\", \"job_title\", \"education_level\",\"date\"]\n",
        "X = df.drop(columns=columns_to_drop, axis=1)  # Ознаки (всі стовпці, крім вищезазначених)\n",
        "y = df[\"salary\"]  # Цільова змінна (salary)\n",
        "\n",
        "\n",
        "# Розділення на навчальний та тестовий набори\n",
        "X_train, X_test, y_train, y_test = train_test_split(X, y, test_size=0.8, random_state=42)\n",
        "\n",
        "# Створення та навчання моделі Випадковий ліс\n",
        "rf_model = RandomForestRegressor(n_estimators=100, random_state=42)\n",
        "rf_model.fit(X_train, y_train)\n",
        "\n",
        "# Прогнози для тестового набору\n",
        "y_pred = rf_model.predict(X_test)\n",
        "\n",
        "# Оцінка якості прогнозу\n",
        "mse = mean_squared_error(y_test, y_pred)\n",
        "r2 = r2_score(y_test, y_pred)\n",
        "\n",
        "print(\"За ансамблевим методом (випадкового лісу): \")\n",
        "print(f\"Середньоквадратична похибка (MSE): {mse}\")\n",
        "print(f\"Коефіцієнт детермінації (R^2): {r2}\")\n",
        "\n"
      ],
      "metadata": {
        "colab": {
          "base_uri": "https://localhost:8080/"
        },
        "id": "bxWdjpTSHZg-",
        "outputId": "d041d48d-3884-488c-f83c-3c187d34c3ab"
      },
      "execution_count": null,
      "outputs": [
        {
          "output_type": "stream",
          "name": "stdout",
          "text": [
            "За ансамблевим методом (випадкового лісу): \n",
            "Середньоквадратична похибка (MSE): 17483887.959866222\n",
            "Коефіцієнт детермінації (R^2): 0.9923350588695992\n"
          ]
        }
      ]
    },
    {
      "cell_type": "code",
      "source": [
        "columns_to_drop = [\"age\", \"years_of_experience\", \"emotional_satisfaction\", \"gender\", \"job_title\", \"education_level\",\"date\"]\n",
        "X_m = df.drop(columns=columns_to_drop, axis=1)  # Ознаки (всі стовпці, крім вищезазначених)\n",
        "y_m = df[\"salary\"]  # Цільова змінна (salary)\n",
        "\n",
        "X_train_sm_m = sm.add_constant(X_m)\n",
        "lr_m = sm.OLS(y_m, X_train_sm_m).fit()\n",
        "\n",
        "lr_m.params\n",
        "\n",
        "print(lr_m.summary())"
      ],
      "metadata": {
        "colab": {
          "base_uri": "https://localhost:8080/"
        },
        "id": "v3PFg7tH1F0z",
        "outputId": "15af1c7c-c0cb-4782-ef83-8ffac618f9e1"
      },
      "execution_count": null,
      "outputs": [
        {
          "output_type": "stream",
          "name": "stdout",
          "text": [
            "                            OLS Regression Results                            \n",
            "==============================================================================\n",
            "Dep. Variable:                 salary   R-squared:                       1.000\n",
            "Model:                            OLS   Adj. R-squared:                  1.000\n",
            "Method:                 Least Squares   F-statistic:                 5.219e+31\n",
            "Date:                Sat, 02 Dec 2023   Prob (F-statistic):               0.00\n",
            "Time:                        09:24:49   Log-Likelihood:                 7966.0\n",
            "No. Observations:                 373   AIC:                        -1.593e+04\n",
            "Df Residuals:                     371   BIC:                        -1.592e+04\n",
            "Df Model:                           1                                         \n",
            "Covariance Type:            nonrobust                                         \n",
            "==============================================================================\n",
            "                 coef    std err          t      P>|t|      [0.025      0.975]\n",
            "------------------------------------------------------------------------------\n",
            "const       5.677e-11   1.54e-11      3.678      0.000    2.64e-11    8.71e-11\n",
            "salary         1.0000   1.38e-16   7.22e+15      0.000       1.000       1.000\n",
            "==============================================================================\n",
            "Omnibus:                       20.231   Durbin-Watson:                   0.175\n",
            "Prob(Omnibus):                  0.000   Jarque-Bera (JB):               20.926\n",
            "Skew:                          -0.545   Prob(JB):                     2.86e-05\n",
            "Kurtosis:                       2.605   Cond. No.                     2.58e+05\n",
            "==============================================================================\n",
            "\n",
            "Notes:\n",
            "[1] Standard Errors assume that the covariance matrix of the errors is correctly specified.\n",
            "[2] The condition number is large, 2.58e+05. This might indicate that there are\n",
            "strong multicollinearity or other numerical problems.\n"
          ]
        }
      ]
    },
    {
      "cell_type": "code",
      "source": [
        "import pandas as pd\n",
        "import numpy as np\n",
        "from sklearn.model_selection import train_test_split\n",
        "from sklearn.preprocessing import PolynomialFeatures\n",
        "from sklearn.linear_model import LinearRegression\n",
        "from sklearn.metrics import mean_squared_error, r2_score\n",
        "\n",
        "# Завантаження даних\n",
        "# df = pd.read_csv(\"Salary Data.csv\")  # Переконайтеся, що ви завантажили ваш датасет\n",
        "\n",
        "# Вибірка ознак та цільової змінної\n",
        "columns_to_drop = [\"age\", \"years_of_experience\", \"emotional_satisfaction\", \"gender\", \"job_title\", \"education_level\", \"date\"]\n",
        "X = df.drop(columns=columns_to_drop, axis=1)  # Ознаки (всі стовпці, крім вищезазначених)\n",
        "y = df[\"salary\"]  # Цільова змінна (salary)\n",
        "\n",
        "# Розділення на навчальний та тестовий набори\n",
        "X_train, X_test, y_train, y_test = train_test_split(X, y, test_size=0.2, random_state=42)\n",
        "\n",
        "# Створення поліноміальних ознак\n",
        "poly = PolynomialFeatures(degree=2)  # Задайте бажаний ступінь полінома (у цьому випадку 2)\n",
        "X_train_poly = poly.fit_transform(X_train)\n",
        "X_test_poly = poly.transform(X_test)\n",
        "\n",
        "# Побудова поліноміальної регресії\n",
        "poly_model = LinearRegression()\n",
        "poly_model.fit(X_train_poly, y_train)\n",
        "\n",
        "# Прогнози для тестового набору\n",
        "y_pred_poly = poly_model.predict(X_test_poly)\n",
        "\n",
        "# Оцінка якості прогнозу\n",
        "mse_poly = mean_squared_error(y_test, y_pred_poly)\n",
        "r2_poly = r2_score(y_test, y_pred_poly)\n",
        "\n",
        "print(f\"Середньоквадратична похибка (MSE) для поліноміальної регресії: {mse_poly}\")\n",
        "print(f\"Коефіцієнт детермінації (R^2) для поліноміальної регресії: {r2_poly}\")\n"
      ],
      "metadata": {
        "colab": {
          "base_uri": "https://localhost:8080/"
        },
        "id": "ZMcpU_KG15tK",
        "outputId": "0a836aa5-5853-4b0c-c650-404272372326"
      },
      "execution_count": null,
      "outputs": [
        {
          "output_type": "stream",
          "name": "stdout",
          "text": [
            "Середньоквадратична похибка (MSE) для поліноміальної регресії: 2.6442851325950753e-12\n",
            "Коефіцієнт детермінації (R^2) для поліноміальної регресії: 1.0\n"
          ]
        }
      ]
    },
    {
      "cell_type": "code",
      "source": [
        "import pandas as pd\n",
        "\n",
        "# Завантаження даних та встановлення індексу на дати\n",
        "\n",
        "df['date'] = pd.to_datetime(df['date'])\n",
        "df.set_index('date', inplace=True)\n"
      ],
      "metadata": {
        "id": "04MBzBAFM3tY"
      },
      "execution_count": null,
      "outputs": []
    },
    {
      "cell_type": "code",
      "source": [
        "train_size = int(len(df) * 0.8)\n",
        "train_data = df.iloc[:train_size]\n",
        "test_data = df.iloc[train_size:]\n"
      ],
      "metadata": {
        "id": "vKM4KV7uNRDh"
      },
      "execution_count": null,
      "outputs": []
    },
    {
      "cell_type": "code",
      "source": [
        "import statsmodels.api as sm\n",
        "\n",
        "p = 1\n",
        "d = 1\n",
        "q = 1\n",
        "P = 1\n",
        "D = 1\n",
        "Q = 1\n",
        "s = 8  # Наприклад, щомісячна сезонність\n"
      ],
      "metadata": {
        "id": "ZTEBGnR4NS7W"
      },
      "execution_count": null,
      "outputs": []
    },
    {
      "cell_type": "code",
      "source": [
        "model = sm.tsa.SARIMAX(train_data['salary'], order=(p, d, q), seasonal_order=(P, D, Q, s))\n",
        "results = model.fit()\n"
      ],
      "metadata": {
        "colab": {
          "base_uri": "https://localhost:8080/"
        },
        "id": "6uERgNZmNVNV",
        "outputId": "c21f0706-f43b-4bbf-fb02-f22284b0943a"
      },
      "execution_count": null,
      "outputs": [
        {
          "output_type": "stream",
          "name": "stderr",
          "text": [
            "/usr/local/lib/python3.10/dist-packages/statsmodels/tsa/base/tsa_model.py:473: ValueWarning: A date index has been provided, but it has no associated frequency information and so will be ignored when e.g. forecasting.\n",
            "  self._init_dates(dates, freq)\n",
            "/usr/local/lib/python3.10/dist-packages/statsmodels/tsa/base/tsa_model.py:473: ValueWarning: A date index has been provided, but it has no associated frequency information and so will be ignored when e.g. forecasting.\n",
            "  self._init_dates(dates, freq)\n",
            "/usr/local/lib/python3.10/dist-packages/statsmodels/tsa/statespace/sarimax.py:978: UserWarning: Non-invertible starting MA parameters found. Using zeros as starting parameters.\n",
            "  warn('Non-invertible starting MA parameters found.'\n"
          ]
        }
      ]
    },
    {
      "cell_type": "code",
      "source": [
        "forecast = results.get_forecast(steps=len(test_data))\n",
        "forecast_mean = forecast.predicted_mean\n"
      ],
      "metadata": {
        "id": "vGeZ15ExNdMS",
        "colab": {
          "base_uri": "https://localhost:8080/"
        },
        "outputId": "c7ed46c1-b43b-4ff8-c9e5-c72580a4481a"
      },
      "execution_count": null,
      "outputs": [
        {
          "output_type": "stream",
          "name": "stderr",
          "text": [
            "/usr/local/lib/python3.10/dist-packages/statsmodels/tsa/base/tsa_model.py:836: ValueWarning: No supported index is available. Prediction results will be given with an integer index beginning at `start`.\n",
            "  return get_prediction_index(\n",
            "/usr/local/lib/python3.10/dist-packages/statsmodels/tsa/base/tsa_model.py:836: FutureWarning: No supported index is available. In the next version, calling this method in a model without a supported index will result in an exception.\n",
            "  return get_prediction_index(\n"
          ]
        }
      ]
    },
    {
      "cell_type": "code",
      "source": [
        "import matplotlib.pyplot as plt\n",
        "\n",
        "plt.figure(figsize=(12, 6))\n",
        "plt.plot(train_data.index, train_data['salary'], label='Train')\n",
        "plt.plot(test_data.index, test_data['salary'], label='Test')\n",
        "plt.plot(forecast_mean.index, forecast_mean, label='Forecast', color='red')\n",
        "plt.legend()\n",
        "plt.show()\n"
      ],
      "metadata": {
        "id": "CRt0OLXANdnw",
        "colab": {
          "base_uri": "https://localhost:8080/",
          "height": 527
        },
        "outputId": "000d199f-e7db-4bea-db2b-5980e6272467"
      },
      "execution_count": null,
      "outputs": [
        {
          "output_type": "display_data",
          "data": {
            "text/plain": [
              "<Figure size 1200x600 with 1 Axes>"
            ],
            "image/png": "[encoded data removed]"
          },
          "metadata": {}
        }
      ]
    }
  ]
}