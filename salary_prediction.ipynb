{
  "cells": [
    {
      "cell_type": "code",
      "execution_count": null,
      "id": "d77d5e43",
      "metadata": {
        "_cell_guid": "b1076dfc-b9ad-4769-8c92-a6c4dae69d19",
        "_uuid": "8f2839f25d086af736a60e9eeb907d3b93b6e0e5",
        "execution": {
          "iopub.execute_input": "2023-03-07T09:39:06.566693Z",
          "iopub.status.busy": "2023-03-07T09:39:06.566094Z",
          "iopub.status.idle": "2023-03-07T09:39:07.648083Z",
          "shell.execute_reply": "2023-03-07T09:39:07.646780Z"
        },
        "papermill": {
          "duration": 1.098123,
          "end_time": "2023-03-07T09:39:07.650907",
          "exception": false,
          "start_time": "2023-03-07T09:39:06.552784",
          "status": "completed"
        },
        "tags": [],
        "id": "d77d5e43"
      },
      "outputs": [],
      "source": [
        "import numpy as np\n",
        "import pandas as pd\n",
        "import matplotlib.pyplot as plt\n",
        "import seaborn as sns"
      ]
    },
    {
      "cell_type": "code",
      "execution_count": null,
      "id": "18bcf856",
      "metadata": {
        "execution": {
          "iopub.execute_input": "2023-03-07T09:39:07.673278Z",
          "iopub.status.busy": "2023-03-07T09:39:07.672788Z",
          "iopub.status.idle": "2023-03-07T09:39:07.692440Z",
          "shell.execute_reply": "2023-03-07T09:39:07.691107Z"
        },
        "papermill": {
          "duration": 0.034461,
          "end_time": "2023-03-07T09:39:07.695266",
          "exception": false,
          "start_time": "2023-03-07T09:39:07.660805",
          "status": "completed"
        },
        "tags": [],
        "id": "18bcf856"
      },
      "outputs": [],
      "source": [
        "df = pd.read_csv('/content/drive/MyDrive/Salary Data.csv')"
      ]
    },
    {
      "cell_type": "code",
      "source": [
        "from google.colab import drive\n",
        "drive.mount('/content/drive')"
      ],
      "metadata": {
        "colab": {
          "base_uri": "https://localhost:8080/"
        },
        "id": "wNrSAkReQ089",
        "outputId": "992e51ea-edc1-4f12-b67d-e6d3d9fd571c"
      },
      "id": "wNrSAkReQ089",
      "execution_count": null,
      "outputs": [
        {
          "output_type": "stream",
          "name": "stdout",
          "text": [
            "Mounted at /content/drive\n"
          ]
        }
      ]
    },
    {
      "cell_type": "code",
      "execution_count": null,
      "id": "6e9ac114",
      "metadata": {
        "execution": {
          "iopub.execute_input": "2023-03-07T09:39:07.717826Z",
          "iopub.status.busy": "2023-03-07T09:39:07.717384Z",
          "iopub.status.idle": "2023-03-07T09:39:07.757169Z",
          "shell.execute_reply": "2023-03-07T09:39:07.755927Z"
        },
        "papermill": {
          "duration": 0.054407,
          "end_time": "2023-03-07T09:39:07.759885",
          "exception": false,
          "start_time": "2023-03-07T09:39:07.705478",
          "status": "completed"
        },
        "tags": [],
        "colab": {
          "base_uri": "https://localhost:8080/",
          "height": 424
        },
        "id": "6e9ac114",
        "outputId": "1458a4a5-b1e6-412c-99dc-134fcfc4ccea"
      },
      "outputs": [
        {
          "output_type": "execute_result",
          "data": {
            "text/plain": [
              "      Age  Gender Education Level                      Job Title  \\\n",
              "0    32.0    Male      Bachelor's              Software Engineer   \n",
              "1    28.0  Female        Master's                   Data Analyst   \n",
              "2    45.0    Male             PhD                 Senior Manager   \n",
              "3    36.0  Female      Bachelor's                Sales Associate   \n",
              "4    52.0    Male        Master's                       Director   \n",
              "..    ...     ...             ...                            ...   \n",
              "370  35.0  Female      Bachelor's       Senior Marketing Analyst   \n",
              "371  43.0    Male        Master's         Director of Operations   \n",
              "372  29.0  Female      Bachelor's         Junior Project Manager   \n",
              "373  34.0    Male      Bachelor's  Senior Operations Coordinator   \n",
              "374  44.0  Female             PhD        Senior Business Analyst   \n",
              "\n",
              "     Years of Experience    Salary  \n",
              "0                    5.0   90000.0  \n",
              "1                    3.0   65000.0  \n",
              "2                   15.0  150000.0  \n",
              "3                    7.0   60000.0  \n",
              "4                   20.0  200000.0  \n",
              "..                   ...       ...  \n",
              "370                  8.0   85000.0  \n",
              "371                 19.0  170000.0  \n",
              "372                  2.0   40000.0  \n",
              "373                  7.0   90000.0  \n",
              "374                 15.0  150000.0  \n",
              "\n",
              "[375 rows x 6 columns]"
            ],
            "text/html": [
              "\n",
              "  <div id=\"df-f4dbfb9d-48e3-4e09-9713-bad9cc673dd5\" class=\"colab-df-container\">\n",
              "    <div>\n",
              "<style scoped>\n",
              "    .dataframe tbody tr th:only-of-type {\n",
              "        vertical-align: middle;\n",
              "    }\n",
              "\n",
              "    .dataframe tbody tr th {\n",
              "        vertical-align: top;\n",
              "    }\n",
              "\n",
              "    .dataframe thead th {\n",
              "        text-align: right;\n",
              "    }\n",
              "</style>\n",
              "<table border=\"1\" class=\"dataframe\">\n",
              "  <thead>\n",
              "    <tr style=\"text-align: right;\">\n",
              "      <th></th>\n",
              "      <th>Age</th>\n",
              "      <th>Gender</th>\n",
              "      <th>Education Level</th>\n",
              "      <th>Job Title</th>\n",
              "      <th>Years of Experience</th>\n",
              "      <th>Salary</th>\n",
              "    </tr>\n",
              "  </thead>\n",
              "  <tbody>\n",
              "    <tr>\n",
              "      <th>0</th>\n",
              "      <td>32.0</td>\n",
              "      <td>Male</td>\n",
              "      <td>Bachelor's</td>\n",
              "      <td>Software Engineer</td>\n",
              "      <td>5.0</td>\n",
              "      <td>90000.0</td>\n",
              "    </tr>\n",
              "    <tr>\n",
              "      <th>1</th>\n",
              "      <td>28.0</td>\n",
              "      <td>Female</td>\n",
              "      <td>Master's</td>\n",
              "      <td>Data Analyst</td>\n",
              "      <td>3.0</td>\n",
              "      <td>65000.0</td>\n",
              "    </tr>\n",
              "    <tr>\n",
              "      <th>2</th>\n",
              "      <td>45.0</td>\n",
              "      <td>Male</td>\n",
              "      <td>PhD</td>\n",
              "      <td>Senior Manager</td>\n",
              "      <td>15.0</td>\n",
              "      <td>150000.0</td>\n",
              "    </tr>\n",
              "    <tr>\n",
              "      <th>3</th>\n",
              "      <td>36.0</td>\n",
              "      <td>Female</td>\n",
              "      <td>Bachelor's</td>\n",
              "      <td>Sales Associate</td>\n",
              "      <td>7.0</td>\n",
              "      <td>60000.0</td>\n",
              "    </tr>\n",
              "    <tr>\n",
              "      <th>4</th>\n",
              "      <td>52.0</td>\n",
              "      <td>Male</td>\n",
              "      <td>Master's</td>\n",
              "      <td>Director</td>\n",
              "      <td>20.0</td>\n",
              "      <td>200000.0</td>\n",
              "    </tr>\n",
              "    <tr>\n",
              "      <th>...</th>\n",
              "      <td>...</td>\n",
              "      <td>...</td>\n",
              "      <td>...</td>\n",
              "      <td>...</td>\n",
              "      <td>...</td>\n",
              "      <td>...</td>\n",
              "    </tr>\n",
              "    <tr>\n",
              "      <th>370</th>\n",
              "      <td>35.0</td>\n",
              "      <td>Female</td>\n",
              "      <td>Bachelor's</td>\n",
              "      <td>Senior Marketing Analyst</td>\n",
              "      <td>8.0</td>\n",
              "      <td>85000.0</td>\n",
              "    </tr>\n",
              "    <tr>\n",
              "      <th>371</th>\n",
              "      <td>43.0</td>\n",
              "      <td>Male</td>\n",
              "      <td>Master's</td>\n",
              "      <td>Director of Operations</td>\n",
              "      <td>19.0</td>\n",
              "      <td>170000.0</td>\n",
              "    </tr>\n",
              "    <tr>\n",
              "      <th>372</th>\n",
              "      <td>29.0</td>\n",
              "      <td>Female</td>\n",
              "      <td>Bachelor's</td>\n",
              "      <td>Junior Project Manager</td>\n",
              "      <td>2.0</td>\n",
              "      <td>40000.0</td>\n",
              "    </tr>\n",
              "    <tr>\n",
              "      <th>373</th>\n",
              "      <td>34.0</td>\n",
              "      <td>Male</td>\n",
              "      <td>Bachelor's</td>\n",
              "      <td>Senior Operations Coordinator</td>\n",
              "      <td>7.0</td>\n",
              "      <td>90000.0</td>\n",
              "    </tr>\n",
              "    <tr>\n",
              "      <th>374</th>\n",
              "      <td>44.0</td>\n",
              "      <td>Female</td>\n",
              "      <td>PhD</td>\n",
              "      <td>Senior Business Analyst</td>\n",
              "      <td>15.0</td>\n",
              "      <td>150000.0</td>\n",
              "    </tr>\n",
              "  </tbody>\n",
              "</table>\n",
              "<p>375 rows × 6 columns</p>\n",
              "</div>\n",
              "    <div class=\"colab-df-buttons\">\n",
              "\n",
              "  <div class=\"colab-df-container\">\n",
              "    <button class=\"colab-df-convert\" onclick=\"convertToInteractive('df-f4dbfb9d-48e3-4e09-9713-bad9cc673dd5')\"\n",
              "            title=\"Convert this dataframe to an interactive table.\"\n",
              "            style=\"display:none;\">\n",
              "\n",
              "  <svg xmlns=\"http://www.w3.org/2000/svg\" height=\"24px\" viewBox=\"0 -960 960 960\">\n",
              "    <path d=\"M120-120v-720h720v720H120Zm60-500h600v-160H180v160Zm220 220h160v-160H400v160Zm0 220h160v-160H400v160ZM180-400h160v-160H180v160Zm440 0h160v-160H620v160ZM180-180h160v-160H180v160Zm440 0h160v-160H620v160Z\"/>\n",
              "  </svg>\n",
              "    </button>\n",
              "\n",
              "  <style>\n",
              "    .colab-df-container {\n",
              "      display:flex;\n",
              "      gap: 12px;\n",
              "    }\n",
              "\n",
              "    .colab-df-convert {\n",
              "      background-color: #E8F0FE;\n",
              "      border: none;\n",
              "      border-radius: 50%;\n",
              "      cursor: pointer;\n",
              "      display: none;\n",
              "      fill: #1967D2;\n",
              "      height: 32px;\n",
              "      padding: 0 0 0 0;\n",
              "      width: 32px;\n",
              "    }\n",
              "\n",
              "    .colab-df-convert:hover {\n",
              "      background-color: #E2EBFA;\n",
              "      box-shadow: 0px 1px 2px rgba(60, 64, 67, 0.3), 0px 1px 3px 1px rgba(60, 64, 67, 0.15);\n",
              "      fill: #174EA6;\n",
              "    }\n",
              "\n",
              "    .colab-df-buttons div {\n",
              "      margin-bottom: 4px;\n",
              "    }\n",
              "\n",
              "    [theme=dark] .colab-df-convert {\n",
              "      background-color: #3B4455;\n",
              "      fill: #D2E3FC;\n",
              "    }\n",
              "\n",
              "    [theme=dark] .colab-df-convert:hover {\n",
              "      background-color: #434B5C;\n",
              "      box-shadow: 0px 1px 3px 1px rgba(0, 0, 0, 0.15);\n",
              "      filter: drop-shadow(0px 1px 2px rgba(0, 0, 0, 0.3));\n",
              "      fill: #FFFFFF;\n",
              "    }\n",
              "  </style>\n",
              "\n",
              "    <script>\n",
              "      const buttonEl =\n",
              "        document.querySelector('#df-f4dbfb9d-48e3-4e09-9713-bad9cc673dd5 button.colab-df-convert');\n",
              "      buttonEl.style.display =\n",
              "        google.colab.kernel.accessAllowed ? 'block' : 'none';\n",
              "\n",
              "      async function convertToInteractive(key) {\n",
              "        const element = document.querySelector('#df-f4dbfb9d-48e3-4e09-9713-bad9cc673dd5');\n",
              "        const dataTable =\n",
              "          await google.colab.kernel.invokeFunction('convertToInteractive',\n",
              "                                                    [key], {});\n",
              "        if (!dataTable) return;\n",
              "\n",
              "        const docLinkHtml = 'Like what you see? Visit the ' +\n",
              "          '<a target=\"_blank\" href=https://colab.research.google.com/notebooks/data_table.ipynb>data table notebook</a>'\n",
              "          + ' to learn more about interactive tables.';\n",
              "        element.innerHTML = '';\n",
              "        dataTable['output_type'] = 'display_data';\n",
              "        await google.colab.output.renderOutput(dataTable, element);\n",
              "        const docLink = document.createElement('div');\n",
              "        docLink.innerHTML = docLinkHtml;\n",
              "        element.appendChild(docLink);\n",
              "      }\n",
              "    </script>\n",
              "  </div>\n",
              "\n",
              "\n",
              "<div id=\"df-35235206-f7b9-4081-8e28-828509bd2ed3\">\n",
              "  <button class=\"colab-df-quickchart\" onclick=\"quickchart('df-35235206-f7b9-4081-8e28-828509bd2ed3')\"\n",
              "            title=\"Suggest charts\"\n",
              "            style=\"display:none;\">\n",
              "\n",
              "<svg xmlns=\"http://www.w3.org/2000/svg\" height=\"24px\"viewBox=\"0 0 24 24\"\n",
              "     width=\"24px\">\n",
              "    <g>\n",
              "        <path d=\"M19 3H5c-1.1 0-2 .9-2 2v14c0 1.1.9 2 2 2h14c1.1 0 2-.9 2-2V5c0-1.1-.9-2-2-2zM9 17H7v-7h2v7zm4 0h-2V7h2v10zm4 0h-2v-4h2v4z\"/>\n",
              "    </g>\n",
              "</svg>\n",
              "  </button>\n",
              "\n",
              "<style>\n",
              "  .colab-df-quickchart {\n",
              "      --bg-color: #E8F0FE;\n",
              "      --fill-color: #1967D2;\n",
              "      --hover-bg-color: #E2EBFA;\n",
              "      --hover-fill-color: #174EA6;\n",
              "      --disabled-fill-color: #AAA;\n",
              "      --disabled-bg-color: #DDD;\n",
              "  }\n",
              "\n",
              "  [theme=dark] .colab-df-quickchart {\n",
              "      --bg-color: #3B4455;\n",
              "      --fill-color: #D2E3FC;\n",
              "      --hover-bg-color: #434B5C;\n",
              "      --hover-fill-color: #FFFFFF;\n",
              "      --disabled-bg-color: #3B4455;\n",
              "      --disabled-fill-color: #666;\n",
              "  }\n",
              "\n",
              "  .colab-df-quickchart {\n",
              "    background-color: var(--bg-color);\n",
              "    border: none;\n",
              "    border-radius: 50%;\n",
              "    cursor: pointer;\n",
              "    display: none;\n",
              "    fill: var(--fill-color);\n",
              "    height: 32px;\n",
              "    padding: 0;\n",
              "    width: 32px;\n",
              "  }\n",
              "\n",
              "  .colab-df-quickchart:hover {\n",
              "    background-color: var(--hover-bg-color);\n",
              "    box-shadow: 0 1px 2px rgba(60, 64, 67, 0.3), 0 1px 3px 1px rgba(60, 64, 67, 0.15);\n",
              "    fill: var(--button-hover-fill-color);\n",
              "  }\n",
              "\n",
              "  .colab-df-quickchart-complete:disabled,\n",
              "  .colab-df-quickchart-complete:disabled:hover {\n",
              "    background-color: var(--disabled-bg-color);\n",
              "    fill: var(--disabled-fill-color);\n",
              "    box-shadow: none;\n",
              "  }\n",
              "\n",
              "  .colab-df-spinner {\n",
              "    border: 2px solid var(--fill-color);\n",
              "    border-color: transparent;\n",
              "    border-bottom-color: var(--fill-color);\n",
              "    animation:\n",
              "      spin 1s steps(1) infinite;\n",
              "  }\n",
              "\n",
              "  @keyframes spin {\n",
              "    0% {\n",
              "      border-color: transparent;\n",
              "      border-bottom-color: var(--fill-color);\n",
              "      border-left-color: var(--fill-color);\n",
              "    }\n",
              "    20% {\n",
              "      border-color: transparent;\n",
              "      border-left-color: var(--fill-color);\n",
              "      border-top-color: var(--fill-color);\n",
              "    }\n",
              "    30% {\n",
              "      border-color: transparent;\n",
              "      border-left-color: var(--fill-color);\n",
              "      border-top-color: var(--fill-color);\n",
              "      border-right-color: var(--fill-color);\n",
              "    }\n",
              "    40% {\n",
              "      border-color: transparent;\n",
              "      border-right-color: var(--fill-color);\n",
              "      border-top-color: var(--fill-color);\n",
              "    }\n",
              "    60% {\n",
              "      border-color: transparent;\n",
              "      border-right-color: var(--fill-color);\n",
              "    }\n",
              "    80% {\n",
              "      border-color: transparent;\n",
              "      border-right-color: var(--fill-color);\n",
              "      border-bottom-color: var(--fill-color);\n",
              "    }\n",
              "    90% {\n",
              "      border-color: transparent;\n",
              "      border-bottom-color: var(--fill-color);\n",
              "    }\n",
              "  }\n",
              "</style>\n",
              "\n",
              "  <script>\n",
              "    async function quickchart(key) {\n",
              "      const quickchartButtonEl =\n",
              "        document.querySelector('#' + key + ' button');\n",
              "      quickchartButtonEl.disabled = true;  // To prevent multiple clicks.\n",
              "      quickchartButtonEl.classList.add('colab-df-spinner');\n",
              "      try {\n",
              "        const charts = await google.colab.kernel.invokeFunction(\n",
              "            'suggestCharts', [key], {});\n",
              "      } catch (error) {\n",
              "        console.error('Error during call to suggestCharts:', error);\n",
              "      }\n",
              "      quickchartButtonEl.classList.remove('colab-df-spinner');\n",
              "      quickchartButtonEl.classList.add('colab-df-quickchart-complete');\n",
              "    }\n",
              "    (() => {\n",
              "      let quickchartButtonEl =\n",
              "        document.querySelector('#df-35235206-f7b9-4081-8e28-828509bd2ed3 button');\n",
              "      quickchartButtonEl.style.display =\n",
              "        google.colab.kernel.accessAllowed ? 'block' : 'none';\n",
              "    })();\n",
              "  </script>\n",
              "</div>\n",
              "    </div>\n",
              "  </div>\n"
            ]
          },
          "metadata": {},
          "execution_count": 9
        }
      ],
      "source": [
        "df"
      ]
    },
    {
      "cell_type": "code",
      "execution_count": null,
      "id": "133e0421",
      "metadata": {
        "execution": {
          "iopub.execute_input": "2023-03-07T09:39:07.784056Z",
          "iopub.status.busy": "2023-03-07T09:39:07.783640Z",
          "iopub.status.idle": "2023-03-07T09:39:07.803425Z",
          "shell.execute_reply": "2023-03-07T09:39:07.802209Z"
        },
        "papermill": {
          "duration": 0.03568,
          "end_time": "2023-03-07T09:39:07.806017",
          "exception": false,
          "start_time": "2023-03-07T09:39:07.770337",
          "status": "completed"
        },
        "tags": [],
        "colab": {
          "base_uri": "https://localhost:8080/"
        },
        "id": "133e0421",
        "outputId": "71a06d66-1b93-43cf-b750-dbde648da9e2"
      },
      "outputs": [
        {
          "output_type": "execute_result",
          "data": {
            "text/plain": [
              "{'Age': [32.0,\n",
              "  28.0,\n",
              "  45.0,\n",
              "  36.0,\n",
              "  52.0,\n",
              "  29.0,\n",
              "  42.0,\n",
              "  31.0,\n",
              "  26.0,\n",
              "  38.0,\n",
              "  48.0,\n",
              "  35.0,\n",
              "  40.0,\n",
              "  27.0,\n",
              "  44.0,\n",
              "  33.0,\n",
              "  39.0,\n",
              "  25.0,\n",
              "  51.0,\n",
              "  34.0,\n",
              "  47.0,\n",
              "  30.0,\n",
              "  41.0,\n",
              "  37.0,\n",
              "  24.0,\n",
              "  43.0,\n",
              "  50.0,\n",
              "  46.0,\n",
              "  49.0,\n",
              "  23.0,\n",
              "  53.0,\n",
              "  nan],\n",
              " 'Gender': ['Male', 'Female', nan],\n",
              " 'Education Level': [\"Bachelor's\", \"Master's\", 'PhD', nan],\n",
              " 'Job Title': ['Software Engineer',\n",
              "  'Data Analyst',\n",
              "  'Senior Manager',\n",
              "  'Sales Associate',\n",
              "  'Director',\n",
              "  'Marketing Analyst',\n",
              "  'Product Manager',\n",
              "  'Sales Manager',\n",
              "  'Marketing Coordinator',\n",
              "  'Senior Scientist',\n",
              "  'Software Developer',\n",
              "  'HR Manager',\n",
              "  'Financial Analyst',\n",
              "  'Project Manager',\n",
              "  'Customer Service Rep',\n",
              "  'Operations Manager',\n",
              "  'Marketing Manager',\n",
              "  'Senior Engineer',\n",
              "  'Data Entry Clerk',\n",
              "  'Sales Director',\n",
              "  'Business Analyst',\n",
              "  'VP of Operations',\n",
              "  'IT Support',\n",
              "  'Recruiter',\n",
              "  'Financial Manager',\n",
              "  'Social Media Specialist',\n",
              "  'Software Manager',\n",
              "  'Junior Developer',\n",
              "  'Senior Consultant',\n",
              "  'Product Designer',\n",
              "  'CEO',\n",
              "  'Accountant',\n",
              "  'Data Scientist',\n",
              "  'Marketing Specialist',\n",
              "  'Technical Writer',\n",
              "  'HR Generalist',\n",
              "  'Project Engineer',\n",
              "  'Customer Success Rep',\n",
              "  'Sales Executive',\n",
              "  'UX Designer',\n",
              "  'Operations Director',\n",
              "  'Network Engineer',\n",
              "  'Administrative Assistant',\n",
              "  'Strategy Consultant',\n",
              "  'Copywriter',\n",
              "  'Account Manager',\n",
              "  'Director of Marketing',\n",
              "  'Help Desk Analyst',\n",
              "  'Customer Service Manager',\n",
              "  'Business Intelligence Analyst',\n",
              "  'Event Coordinator',\n",
              "  'VP of Finance',\n",
              "  'Graphic Designer',\n",
              "  'UX Researcher',\n",
              "  'Social Media Manager',\n",
              "  'Director of Operations',\n",
              "  'Senior Data Scientist',\n",
              "  'Junior Accountant',\n",
              "  'Digital Marketing Manager',\n",
              "  'IT Manager',\n",
              "  'Customer Service Representative',\n",
              "  'Business Development Manager',\n",
              "  'Senior Financial Analyst',\n",
              "  'Web Developer',\n",
              "  'Research Director',\n",
              "  'Technical Support Specialist',\n",
              "  'Creative Director',\n",
              "  'Senior Software Engineer',\n",
              "  'Human Resources Director',\n",
              "  'Content Marketing Manager',\n",
              "  'Technical Recruiter',\n",
              "  'Sales Representative',\n",
              "  'Chief Technology Officer',\n",
              "  'Junior Designer',\n",
              "  'Financial Advisor',\n",
              "  'Junior Account Manager',\n",
              "  'Senior Project Manager',\n",
              "  'Principal Scientist',\n",
              "  'Supply Chain Manager',\n",
              "  'Senior Marketing Manager',\n",
              "  'Training Specialist',\n",
              "  'Research Scientist',\n",
              "  'Junior Software Developer',\n",
              "  'Public Relations Manager',\n",
              "  'Operations Analyst',\n",
              "  'Product Marketing Manager',\n",
              "  'Senior HR Manager',\n",
              "  'Junior Web Developer',\n",
              "  'Senior Project Coordinator',\n",
              "  'Chief Data Officer',\n",
              "  'Digital Content Producer',\n",
              "  'IT Support Specialist',\n",
              "  'Senior Marketing Analyst',\n",
              "  'Customer Success Manager',\n",
              "  'Senior Graphic Designer',\n",
              "  'Software Project Manager',\n",
              "  'Supply Chain Analyst',\n",
              "  'Senior Business Analyst',\n",
              "  'Junior Marketing Analyst',\n",
              "  'Office Manager',\n",
              "  'Principal Engineer',\n",
              "  'Junior HR Generalist',\n",
              "  'Senior Product Manager',\n",
              "  'Junior Operations Analyst',\n",
              "  'Senior HR Generalist',\n",
              "  'Sales Operations Manager',\n",
              "  'Senior Software Developer',\n",
              "  'Junior Web Designer',\n",
              "  'Senior Training Specialist',\n",
              "  'Senior Research Scientist',\n",
              "  'Junior Sales Representative',\n",
              "  'Junior Marketing Manager',\n",
              "  'Junior Data Analyst',\n",
              "  'Senior Product Marketing Manager',\n",
              "  'Junior Business Analyst',\n",
              "  'Senior Sales Manager',\n",
              "  'Junior Marketing Specialist',\n",
              "  'Junior Project Manager',\n",
              "  'Senior Accountant',\n",
              "  'Director of Sales',\n",
              "  'Junior Recruiter',\n",
              "  'Senior Business Development Manager',\n",
              "  'Senior Product Designer',\n",
              "  'Junior Customer Support Specialist',\n",
              "  'Senior IT Support Specialist',\n",
              "  'Junior Financial Analyst',\n",
              "  'Senior Operations Manager',\n",
              "  'Director of Human Resources',\n",
              "  'Junior Software Engineer',\n",
              "  'Senior Sales Representative',\n",
              "  'Director of Product Management',\n",
              "  'Junior Copywriter',\n",
              "  'Senior Marketing Coordinator',\n",
              "  'Senior Human Resources Manager',\n",
              "  'Junior Business Development Associate',\n",
              "  'Senior Account Manager',\n",
              "  'Senior Researcher',\n",
              "  'Junior HR Coordinator',\n",
              "  'Director of Finance',\n",
              "  'Junior Marketing Coordinator',\n",
              "  nan,\n",
              "  'Junior Data Scientist',\n",
              "  'Senior Operations Analyst',\n",
              "  'Senior Human Resources Coordinator',\n",
              "  'Senior UX Designer',\n",
              "  'Junior Product Manager',\n",
              "  'Senior Marketing Specialist',\n",
              "  'Senior IT Project Manager',\n",
              "  'Senior Quality Assurance Analyst',\n",
              "  'Director of Sales and Marketing',\n",
              "  'Senior Account Executive',\n",
              "  'Director of Business Development',\n",
              "  'Junior Social Media Manager',\n",
              "  'Senior Human Resources Specialist',\n",
              "  'Senior Data Analyst',\n",
              "  'Director of Human Capital',\n",
              "  'Junior Advertising Coordinator',\n",
              "  'Junior UX Designer',\n",
              "  'Senior Marketing Director',\n",
              "  'Senior IT Consultant',\n",
              "  'Senior Financial Advisor',\n",
              "  'Junior Business Operations Analyst',\n",
              "  'Junior Social Media Specialist',\n",
              "  'Senior Product Development Manager',\n",
              "  'Junior Operations Manager',\n",
              "  'Senior Software Architect',\n",
              "  'Junior Research Scientist',\n",
              "  'Senior Financial Manager',\n",
              "  'Senior HR Specialist',\n",
              "  'Senior Data Engineer',\n",
              "  'Junior Operations Coordinator',\n",
              "  'Director of HR',\n",
              "  'Senior Operations Coordinator',\n",
              "  'Junior Financial Advisor',\n",
              "  'Director of Engineering'],\n",
              " 'Years of Experience': [5.0,\n",
              "  3.0,\n",
              "  15.0,\n",
              "  7.0,\n",
              "  20.0,\n",
              "  2.0,\n",
              "  12.0,\n",
              "  4.0,\n",
              "  1.0,\n",
              "  10.0,\n",
              "  18.0,\n",
              "  6.0,\n",
              "  14.0,\n",
              "  16.0,\n",
              "  0.0,\n",
              "  22.0,\n",
              "  19.0,\n",
              "  9.0,\n",
              "  13.0,\n",
              "  11.0,\n",
              "  25.0,\n",
              "  21.0,\n",
              "  8.0,\n",
              "  17.0,\n",
              "  23.0,\n",
              "  24.0,\n",
              "  0.5,\n",
              "  1.5,\n",
              "  nan],\n",
              " 'Salary': [90000.0,\n",
              "  65000.0,\n",
              "  150000.0,\n",
              "  60000.0,\n",
              "  200000.0,\n",
              "  55000.0,\n",
              "  120000.0,\n",
              "  80000.0,\n",
              "  45000.0,\n",
              "  110000.0,\n",
              "  75000.0,\n",
              "  140000.0,\n",
              "  130000.0,\n",
              "  40000.0,\n",
              "  125000.0,\n",
              "  115000.0,\n",
              "  35000.0,\n",
              "  180000.0,\n",
              "  190000.0,\n",
              "  50000.0,\n",
              "  250000.0,\n",
              "  170000.0,\n",
              "  160000.0,\n",
              "  85000.0,\n",
              "  95000.0,\n",
              "  105000.0,\n",
              "  70000.0,\n",
              "  100000.0,\n",
              "  30000.0,\n",
              "  135000.0,\n",
              "  220000.0,\n",
              "  175000.0,\n",
              "  185000.0,\n",
              "  nan,\n",
              "  145000.0,\n",
              "  155000.0,\n",
              "  350.0]}"
            ]
          },
          "metadata": {},
          "execution_count": 10
        }
      ],
      "source": [
        "{columns: list(df[columns].unique()) for columns in df.columns}"
      ]
    },
    {
      "cell_type": "code",
      "execution_count": null,
      "id": "ee14d21a",
      "metadata": {
        "execution": {
          "iopub.execute_input": "2023-03-07T09:39:07.829437Z",
          "iopub.status.busy": "2023-03-07T09:39:07.828758Z",
          "iopub.status.idle": "2023-03-07T09:39:07.838636Z",
          "shell.execute_reply": "2023-03-07T09:39:07.837459Z"
        },
        "papermill": {
          "duration": 0.024168,
          "end_time": "2023-03-07T09:39:07.840870",
          "exception": false,
          "start_time": "2023-03-07T09:39:07.816702",
          "status": "completed"
        },
        "tags": [],
        "colab": {
          "base_uri": "https://localhost:8080/"
        },
        "id": "ee14d21a",
        "outputId": "6270f7b8-da1a-4131-9c2d-81a1cd245b85"
      },
      "outputs": [
        {
          "output_type": "execute_result",
          "data": {
            "text/plain": [
              "Age                    2\n",
              "Gender                 2\n",
              "Education Level        2\n",
              "Job Title              2\n",
              "Years of Experience    2\n",
              "Salary                 2\n",
              "dtype: int64"
            ]
          },
          "metadata": {},
          "execution_count": 11
        }
      ],
      "source": [
        "df.isnull().sum()"
      ]
    },
    {
      "cell_type": "code",
      "execution_count": null,
      "id": "a675aa95",
      "metadata": {
        "execution": {
          "iopub.execute_input": "2023-03-07T09:39:07.864166Z",
          "iopub.status.busy": "2023-03-07T09:39:07.863470Z",
          "iopub.status.idle": "2023-03-07T09:39:07.880709Z",
          "shell.execute_reply": "2023-03-07T09:39:07.879166Z"
        },
        "papermill": {
          "duration": 0.032587,
          "end_time": "2023-03-07T09:39:07.884001",
          "exception": false,
          "start_time": "2023-03-07T09:39:07.851414",
          "status": "completed"
        },
        "tags": [],
        "colab": {
          "base_uri": "https://localhost:8080/"
        },
        "id": "a675aa95",
        "outputId": "9f7ade5c-0c26-4464-df73-325b52de0c88"
      },
      "outputs": [
        {
          "output_type": "stream",
          "name": "stdout",
          "text": [
            "<class 'pandas.core.frame.DataFrame'>\n",
            "RangeIndex: 375 entries, 0 to 374\n",
            "Data columns (total 6 columns):\n",
            " #   Column               Non-Null Count  Dtype  \n",
            "---  ------               --------------  -----  \n",
            " 0   Age                  373 non-null    float64\n",
            " 1   Gender               373 non-null    object \n",
            " 2   Education Level      373 non-null    object \n",
            " 3   Job Title            373 non-null    object \n",
            " 4   Years of Experience  373 non-null    float64\n",
            " 5   Salary               373 non-null    float64\n",
            "dtypes: float64(3), object(3)\n",
            "memory usage: 17.7+ KB\n"
          ]
        }
      ],
      "source": [
        "df.info()"
      ]
    },
    {
      "cell_type": "code",
      "execution_count": null,
      "id": "8c061805",
      "metadata": {
        "execution": {
          "iopub.execute_input": "2023-03-07T09:39:07.907552Z",
          "iopub.status.busy": "2023-03-07T09:39:07.906753Z",
          "iopub.status.idle": "2023-03-07T09:39:07.913225Z",
          "shell.execute_reply": "2023-03-07T09:39:07.911963Z"
        },
        "papermill": {
          "duration": 0.020817,
          "end_time": "2023-03-07T09:39:07.915803",
          "exception": false,
          "start_time": "2023-03-07T09:39:07.894986",
          "status": "completed"
        },
        "tags": [],
        "id": "8c061805"
      },
      "outputs": [],
      "source": [
        "mean_age = df['Age'].mean()\n",
        "year_exp = df['Years of Experience'].mean()\n",
        "mean_salary = df['Salary'].mean()"
      ]
    },
    {
      "cell_type": "code",
      "execution_count": null,
      "id": "d061ea82",
      "metadata": {
        "execution": {
          "iopub.execute_input": "2023-03-07T09:39:07.939489Z",
          "iopub.status.busy": "2023-03-07T09:39:07.938707Z",
          "iopub.status.idle": "2023-03-07T09:39:07.945278Z",
          "shell.execute_reply": "2023-03-07T09:39:07.944416Z"
        },
        "papermill": {
          "duration": 0.021143,
          "end_time": "2023-03-07T09:39:07.947625",
          "exception": false,
          "start_time": "2023-03-07T09:39:07.926482",
          "status": "completed"
        },
        "tags": [],
        "id": "d061ea82"
      },
      "outputs": [],
      "source": [
        "df['Age'] = df['Age'].fillna(mean_age)\n",
        "df['Years of Experience'] = df['Years of Experience'].fillna(year_exp)\n",
        "df['Salary'] = df['Salary'].fillna(mean_salary)"
      ]
    },
    {
      "cell_type": "code",
      "execution_count": null,
      "id": "e2be115c",
      "metadata": {
        "execution": {
          "iopub.execute_input": "2023-03-07T09:39:07.971102Z",
          "iopub.status.busy": "2023-03-07T09:39:07.970669Z",
          "iopub.status.idle": "2023-03-07T09:39:07.980508Z",
          "shell.execute_reply": "2023-03-07T09:39:07.979231Z"
        },
        "papermill": {
          "duration": 0.024578,
          "end_time": "2023-03-07T09:39:07.982910",
          "exception": false,
          "start_time": "2023-03-07T09:39:07.958332",
          "status": "completed"
        },
        "tags": [],
        "colab": {
          "base_uri": "https://localhost:8080/"
        },
        "id": "e2be115c",
        "outputId": "4f49852c-cc86-4bea-ab45-22a4d5c59f03"
      },
      "outputs": [
        {
          "output_type": "execute_result",
          "data": {
            "text/plain": [
              "Age                    0\n",
              "Gender                 2\n",
              "Education Level        2\n",
              "Job Title              2\n",
              "Years of Experience    0\n",
              "Salary                 0\n",
              "dtype: int64"
            ]
          },
          "metadata": {},
          "execution_count": 15
        }
      ],
      "source": [
        "df.isnull().sum()"
      ]
    },
    {
      "cell_type": "code",
      "execution_count": null,
      "id": "9b4effe4",
      "metadata": {
        "execution": {
          "iopub.execute_input": "2023-03-07T09:39:08.006183Z",
          "iopub.status.busy": "2023-03-07T09:39:08.005268Z",
          "iopub.status.idle": "2023-03-07T09:39:08.012750Z",
          "shell.execute_reply": "2023-03-07T09:39:08.011817Z"
        },
        "papermill": {
          "duration": 0.021249,
          "end_time": "2023-03-07T09:39:08.014710",
          "exception": false,
          "start_time": "2023-03-07T09:39:07.993461",
          "status": "completed"
        },
        "tags": [],
        "id": "9b4effe4"
      },
      "outputs": [],
      "source": [
        "df = df.dropna()"
      ]
    },
    {
      "cell_type": "code",
      "execution_count": null,
      "id": "ace554ef",
      "metadata": {
        "execution": {
          "iopub.execute_input": "2023-03-07T09:39:08.037472Z",
          "iopub.status.busy": "2023-03-07T09:39:08.037062Z",
          "iopub.status.idle": "2023-03-07T09:39:08.046320Z",
          "shell.execute_reply": "2023-03-07T09:39:08.045157Z"
        },
        "papermill": {
          "duration": 0.023478,
          "end_time": "2023-03-07T09:39:08.048627",
          "exception": false,
          "start_time": "2023-03-07T09:39:08.025149",
          "status": "completed"
        },
        "tags": [],
        "colab": {
          "base_uri": "https://localhost:8080/"
        },
        "id": "ace554ef",
        "outputId": "87e9b778-75a1-4032-805c-d878da8143e4"
      },
      "outputs": [
        {
          "output_type": "execute_result",
          "data": {
            "text/plain": [
              "Age                    0\n",
              "Gender                 0\n",
              "Education Level        0\n",
              "Job Title              0\n",
              "Years of Experience    0\n",
              "Salary                 0\n",
              "dtype: int64"
            ]
          },
          "metadata": {},
          "execution_count": 17
        }
      ],
      "source": [
        "df.isnull().sum()"
      ]
    },
    {
      "cell_type": "code",
      "execution_count": null,
      "id": "93eb399e",
      "metadata": {
        "execution": {
          "iopub.execute_input": "2023-03-07T09:39:08.072073Z",
          "iopub.status.busy": "2023-03-07T09:39:08.071176Z",
          "iopub.status.idle": "2023-03-07T09:39:08.078889Z",
          "shell.execute_reply": "2023-03-07T09:39:08.077702Z"
        },
        "papermill": {
          "duration": 0.022816,
          "end_time": "2023-03-07T09:39:08.081957",
          "exception": false,
          "start_time": "2023-03-07T09:39:08.059141",
          "status": "completed"
        },
        "tags": [],
        "colab": {
          "base_uri": "https://localhost:8080/"
        },
        "id": "93eb399e",
        "outputId": "830705ae-8509-4bd6-ed71-dbdbca72272b"
      },
      "outputs": [
        {
          "output_type": "stream",
          "name": "stderr",
          "text": [
            "<ipython-input-18-d5551b052bbe>:1: SettingWithCopyWarning: \n",
            "A value is trying to be set on a copy of a slice from a DataFrame.\n",
            "Try using .loc[row_indexer,col_indexer] = value instead\n",
            "\n",
            "See the caveats in the documentation: https://pandas.pydata.org/pandas-docs/stable/user_guide/indexing.html#returning-a-view-versus-a-copy\n",
            "  df['Gender'] = df['Gender'].replace({'Male': 0, 'Female': 1})\n"
          ]
        }
      ],
      "source": [
        "df['Gender'] = df['Gender'].replace({'Male': 0, 'Female': 1})"
      ]
    },
    {
      "cell_type": "code",
      "execution_count": null,
      "id": "a93f8686",
      "metadata": {
        "execution": {
          "iopub.execute_input": "2023-03-07T09:39:08.106179Z",
          "iopub.status.busy": "2023-03-07T09:39:08.105245Z",
          "iopub.status.idle": "2023-03-07T09:39:08.123816Z",
          "shell.execute_reply": "2023-03-07T09:39:08.122887Z"
        },
        "papermill": {
          "duration": 0.033475,
          "end_time": "2023-03-07T09:39:08.126372",
          "exception": false,
          "start_time": "2023-03-07T09:39:08.092897",
          "status": "completed"
        },
        "tags": [],
        "colab": {
          "base_uri": "https://localhost:8080/",
          "height": 424
        },
        "id": "a93f8686",
        "outputId": "de3df890-a597-4bbc-94fb-61b5a293162a"
      },
      "outputs": [
        {
          "output_type": "execute_result",
          "data": {
            "text/plain": [
              "      Age  Gender Education Level                      Job Title  \\\n",
              "0    32.0       0      Bachelor's              Software Engineer   \n",
              "1    28.0       1        Master's                   Data Analyst   \n",
              "2    45.0       0             PhD                 Senior Manager   \n",
              "3    36.0       1      Bachelor's                Sales Associate   \n",
              "4    52.0       0        Master's                       Director   \n",
              "..    ...     ...             ...                            ...   \n",
              "370  35.0       1      Bachelor's       Senior Marketing Analyst   \n",
              "371  43.0       0        Master's         Director of Operations   \n",
              "372  29.0       1      Bachelor's         Junior Project Manager   \n",
              "373  34.0       0      Bachelor's  Senior Operations Coordinator   \n",
              "374  44.0       1             PhD        Senior Business Analyst   \n",
              "\n",
              "     Years of Experience    Salary  \n",
              "0                    5.0   90000.0  \n",
              "1                    3.0   65000.0  \n",
              "2                   15.0  150000.0  \n",
              "3                    7.0   60000.0  \n",
              "4                   20.0  200000.0  \n",
              "..                   ...       ...  \n",
              "370                  8.0   85000.0  \n",
              "371                 19.0  170000.0  \n",
              "372                  2.0   40000.0  \n",
              "373                  7.0   90000.0  \n",
              "374                 15.0  150000.0  \n",
              "\n",
              "[373 rows x 6 columns]"
            ],
            "text/html": [
              "\n",
              "  <div id=\"df-065ecc5c-a52c-4977-a931-086f0e9a0f78\" class=\"colab-df-container\">\n",
              "    <div>\n",
              "<style scoped>\n",
              "    .dataframe tbody tr th:only-of-type {\n",
              "        vertical-align: middle;\n",
              "    }\n",
              "\n",
              "    .dataframe tbody tr th {\n",
              "        vertical-align: top;\n",
              "    }\n",
              "\n",
              "    .dataframe thead th {\n",
              "        text-align: right;\n",
              "    }\n",
              "</style>\n",
              "<table border=\"1\" class=\"dataframe\">\n",
              "  <thead>\n",
              "    <tr style=\"text-align: right;\">\n",
              "      <th></th>\n",
              "      <th>Age</th>\n",
              "      <th>Gender</th>\n",
              "      <th>Education Level</th>\n",
              "      <th>Job Title</th>\n",
              "      <th>Years of Experience</th>\n",
              "      <th>Salary</th>\n",
              "    </tr>\n",
              "  </thead>\n",
              "  <tbody>\n",
              "    <tr>\n",
              "      <th>0</th>\n",
              "      <td>32.0</td>\n",
              "      <td>0</td>\n",
              "      <td>Bachelor's</td>\n",
              "      <td>Software Engineer</td>\n",
              "      <td>5.0</td>\n",
              "      <td>90000.0</td>\n",
              "    </tr>\n",
              "    <tr>\n",
              "      <th>1</th>\n",
              "      <td>28.0</td>\n",
              "      <td>1</td>\n",
              "      <td>Master's</td>\n",
              "      <td>Data Analyst</td>\n",
              "      <td>3.0</td>\n",
              "      <td>65000.0</td>\n",
              "    </tr>\n",
              "    <tr>\n",
              "      <th>2</th>\n",
              "      <td>45.0</td>\n",
              "      <td>0</td>\n",
              "      <td>PhD</td>\n",
              "      <td>Senior Manager</td>\n",
              "      <td>15.0</td>\n",
              "      <td>150000.0</td>\n",
              "    </tr>\n",
              "    <tr>\n",
              "      <th>3</th>\n",
              "      <td>36.0</td>\n",
              "      <td>1</td>\n",
              "      <td>Bachelor's</td>\n",
              "      <td>Sales Associate</td>\n",
              "      <td>7.0</td>\n",
              "      <td>60000.0</td>\n",
              "    </tr>\n",
              "    <tr>\n",
              "      <th>4</th>\n",
              "      <td>52.0</td>\n",
              "      <td>0</td>\n",
              "      <td>Master's</td>\n",
              "      <td>Director</td>\n",
              "      <td>20.0</td>\n",
              "      <td>200000.0</td>\n",
              "    </tr>\n",
              "    <tr>\n",
              "      <th>...</th>\n",
              "      <td>...</td>\n",
              "      <td>...</td>\n",
              "      <td>...</td>\n",
              "      <td>...</td>\n",
              "      <td>...</td>\n",
              "      <td>...</td>\n",
              "    </tr>\n",
              "    <tr>\n",
              "      <th>370</th>\n",
              "      <td>35.0</td>\n",
              "      <td>1</td>\n",
              "      <td>Bachelor's</td>\n",
              "      <td>Senior Marketing Analyst</td>\n",
              "      <td>8.0</td>\n",
              "      <td>85000.0</td>\n",
              "    </tr>\n",
              "    <tr>\n",
              "      <th>371</th>\n",
              "      <td>43.0</td>\n",
              "      <td>0</td>\n",
              "      <td>Master's</td>\n",
              "      <td>Director of Operations</td>\n",
              "      <td>19.0</td>\n",
              "      <td>170000.0</td>\n",
              "    </tr>\n",
              "    <tr>\n",
              "      <th>372</th>\n",
              "      <td>29.0</td>\n",
              "      <td>1</td>\n",
              "      <td>Bachelor's</td>\n",
              "      <td>Junior Project Manager</td>\n",
              "      <td>2.0</td>\n",
              "      <td>40000.0</td>\n",
              "    </tr>\n",
              "    <tr>\n",
              "      <th>373</th>\n",
              "      <td>34.0</td>\n",
              "      <td>0</td>\n",
              "      <td>Bachelor's</td>\n",
              "      <td>Senior Operations Coordinator</td>\n",
              "      <td>7.0</td>\n",
              "      <td>90000.0</td>\n",
              "    </tr>\n",
              "    <tr>\n",
              "      <th>374</th>\n",
              "      <td>44.0</td>\n",
              "      <td>1</td>\n",
              "      <td>PhD</td>\n",
              "      <td>Senior Business Analyst</td>\n",
              "      <td>15.0</td>\n",
              "      <td>150000.0</td>\n",
              "    </tr>\n",
              "  </tbody>\n",
              "</table>\n",
              "<p>373 rows × 6 columns</p>\n",
              "</div>\n",
              "    <div class=\"colab-df-buttons\">\n",
              "\n",
              "  <div class=\"colab-df-container\">\n",
              "    <button class=\"colab-df-convert\" onclick=\"convertToInteractive('df-065ecc5c-a52c-4977-a931-086f0e9a0f78')\"\n",
              "            title=\"Convert this dataframe to an interactive table.\"\n",
              "            style=\"display:none;\">\n",
              "\n",
              "  <svg xmlns=\"http://www.w3.org/2000/svg\" height=\"24px\" viewBox=\"0 -960 960 960\">\n",
              "    <path d=\"M120-120v-720h720v720H120Zm60-500h600v-160H180v160Zm220 220h160v-160H400v160Zm0 220h160v-160H400v160ZM180-400h160v-160H180v160Zm440 0h160v-160H620v160ZM180-180h160v-160H180v160Zm440 0h160v-160H620v160Z\"/>\n",
              "  </svg>\n",
              "    </button>\n",
              "\n",
              "  <style>\n",
              "    .colab-df-container {\n",
              "      display:flex;\n",
              "      gap: 12px;\n",
              "    }\n",
              "\n",
              "    .colab-df-convert {\n",
              "      background-color: #E8F0FE;\n",
              "      border: none;\n",
              "      border-radius: 50%;\n",
              "      cursor: pointer;\n",
              "      display: none;\n",
              "      fill: #1967D2;\n",
              "      height: 32px;\n",
              "      padding: 0 0 0 0;\n",
              "      width: 32px;\n",
              "    }\n",
              "\n",
              "    .colab-df-convert:hover {\n",
              "      background-color: #E2EBFA;\n",
              "      box-shadow: 0px 1px 2px rgba(60, 64, 67, 0.3), 0px 1px 3px 1px rgba(60, 64, 67, 0.15);\n",
              "      fill: #174EA6;\n",
              "    }\n",
              "\n",
              "    .colab-df-buttons div {\n",
              "      margin-bottom: 4px;\n",
              "    }\n",
              "\n",
              "    [theme=dark] .colab-df-convert {\n",
              "      background-color: #3B4455;\n",
              "      fill: #D2E3FC;\n",
              "    }\n",
              "\n",
              "    [theme=dark] .colab-df-convert:hover {\n",
              "      background-color: #434B5C;\n",
              "      box-shadow: 0px 1px 3px 1px rgba(0, 0, 0, 0.15);\n",
              "      filter: drop-shadow(0px 1px 2px rgba(0, 0, 0, 0.3));\n",
              "      fill: #FFFFFF;\n",
              "    }\n",
              "  </style>\n",
              "\n",
              "    <script>\n",
              "      const buttonEl =\n",
              "        document.querySelector('#df-065ecc5c-a52c-4977-a931-086f0e9a0f78 button.colab-df-convert');\n",
              "      buttonEl.style.display =\n",
              "        google.colab.kernel.accessAllowed ? 'block' : 'none';\n",
              "\n",
              "      async function convertToInteractive(key) {\n",
              "        const element = document.querySelector('#df-065ecc5c-a52c-4977-a931-086f0e9a0f78');\n",
              "        const dataTable =\n",
              "          await google.colab.kernel.invokeFunction('convertToInteractive',\n",
              "                                                    [key], {});\n",
              "        if (!dataTable) return;\n",
              "\n",
              "        const docLinkHtml = 'Like what you see? Visit the ' +\n",
              "          '<a target=\"_blank\" href=https://colab.research.google.com/notebooks/data_table.ipynb>data table notebook</a>'\n",
              "          + ' to learn more about interactive tables.';\n",
              "        element.innerHTML = '';\n",
              "        dataTable['output_type'] = 'display_data';\n",
              "        await google.colab.output.renderOutput(dataTable, element);\n",
              "        const docLink = document.createElement('div');\n",
              "        docLink.innerHTML = docLinkHtml;\n",
              "        element.appendChild(docLink);\n",
              "      }\n",
              "    </script>\n",
              "  </div>\n",
              "\n",
              "\n",
              "<div id=\"df-1e9dccb7-a75c-4544-9163-d8656337583b\">\n",
              "  <button class=\"colab-df-quickchart\" onclick=\"quickchart('df-1e9dccb7-a75c-4544-9163-d8656337583b')\"\n",
              "            title=\"Suggest charts\"\n",
              "            style=\"display:none;\">\n",
              "\n",
              "<svg xmlns=\"http://www.w3.org/2000/svg\" height=\"24px\"viewBox=\"0 0 24 24\"\n",
              "     width=\"24px\">\n",
              "    <g>\n",
              "        <path d=\"M19 3H5c-1.1 0-2 .9-2 2v14c0 1.1.9 2 2 2h14c1.1 0 2-.9 2-2V5c0-1.1-.9-2-2-2zM9 17H7v-7h2v7zm4 0h-2V7h2v10zm4 0h-2v-4h2v4z\"/>\n",
              "    </g>\n",
              "</svg>\n",
              "  </button>\n",
              "\n",
              "<style>\n",
              "  .colab-df-quickchart {\n",
              "      --bg-color: #E8F0FE;\n",
              "      --fill-color: #1967D2;\n",
              "      --hover-bg-color: #E2EBFA;\n",
              "      --hover-fill-color: #174EA6;\n",
              "      --disabled-fill-color: #AAA;\n",
              "      --disabled-bg-color: #DDD;\n",
              "  }\n",
              "\n",
              "  [theme=dark] .colab-df-quickchart {\n",
              "      --bg-color: #3B4455;\n",
              "      --fill-color: #D2E3FC;\n",
              "      --hover-bg-color: #434B5C;\n",
              "      --hover-fill-color: #FFFFFF;\n",
              "      --disabled-bg-color: #3B4455;\n",
              "      --disabled-fill-color: #666;\n",
              "  }\n",
              "\n",
              "  .colab-df-quickchart {\n",
              "    background-color: var(--bg-color);\n",
              "    border: none;\n",
              "    border-radius: 50%;\n",
              "    cursor: pointer;\n",
              "    display: none;\n",
              "    fill: var(--fill-color);\n",
              "    height: 32px;\n",
              "    padding: 0;\n",
              "    width: 32px;\n",
              "  }\n",
              "\n",
              "  .colab-df-quickchart:hover {\n",
              "    background-color: var(--hover-bg-color);\n",
              "    box-shadow: 0 1px 2px rgba(60, 64, 67, 0.3), 0 1px 3px 1px rgba(60, 64, 67, 0.15);\n",
              "    fill: var(--button-hover-fill-color);\n",
              "  }\n",
              "\n",
              "  .colab-df-quickchart-complete:disabled,\n",
              "  .colab-df-quickchart-complete:disabled:hover {\n",
              "    background-color: var(--disabled-bg-color);\n",
              "    fill: var(--disabled-fill-color);\n",
              "    box-shadow: none;\n",
              "  }\n",
              "\n",
              "  .colab-df-spinner {\n",
              "    border: 2px solid var(--fill-color);\n",
              "    border-color: transparent;\n",
              "    border-bottom-color: var(--fill-color);\n",
              "    animation:\n",
              "      spin 1s steps(1) infinite;\n",
              "  }\n",
              "\n",
              "  @keyframes spin {\n",
              "    0% {\n",
              "      border-color: transparent;\n",
              "      border-bottom-color: var(--fill-color);\n",
              "      border-left-color: var(--fill-color);\n",
              "    }\n",
              "    20% {\n",
              "      border-color: transparent;\n",
              "      border-left-color: var(--fill-color);\n",
              "      border-top-color: var(--fill-color);\n",
              "    }\n",
              "    30% {\n",
              "      border-color: transparent;\n",
              "      border-left-color: var(--fill-color);\n",
              "      border-top-color: var(--fill-color);\n",
              "      border-right-color: var(--fill-color);\n",
              "    }\n",
              "    40% {\n",
              "      border-color: transparent;\n",
              "      border-right-color: var(--fill-color);\n",
              "      border-top-color: var(--fill-color);\n",
              "    }\n",
              "    60% {\n",
              "      border-color: transparent;\n",
              "      border-right-color: var(--fill-color);\n",
              "    }\n",
              "    80% {\n",
              "      border-color: transparent;\n",
              "      border-right-color: var(--fill-color);\n",
              "      border-bottom-color: var(--fill-color);\n",
              "    }\n",
              "    90% {\n",
              "      border-color: transparent;\n",
              "      border-bottom-color: var(--fill-color);\n",
              "    }\n",
              "  }\n",
              "</style>\n",
              "\n",
              "  <script>\n",
              "    async function quickchart(key) {\n",
              "      const quickchartButtonEl =\n",
              "        document.querySelector('#' + key + ' button');\n",
              "      quickchartButtonEl.disabled = true;  // To prevent multiple clicks.\n",
              "      quickchartButtonEl.classList.add('colab-df-spinner');\n",
              "      try {\n",
              "        const charts = await google.colab.kernel.invokeFunction(\n",
              "            'suggestCharts', [key], {});\n",
              "      } catch (error) {\n",
              "        console.error('Error during call to suggestCharts:', error);\n",
              "      }\n",
              "      quickchartButtonEl.classList.remove('colab-df-spinner');\n",
              "      quickchartButtonEl.classList.add('colab-df-quickchart-complete');\n",
              "    }\n",
              "    (() => {\n",
              "      let quickchartButtonEl =\n",
              "        document.querySelector('#df-1e9dccb7-a75c-4544-9163-d8656337583b button');\n",
              "      quickchartButtonEl.style.display =\n",
              "        google.colab.kernel.accessAllowed ? 'block' : 'none';\n",
              "    })();\n",
              "  </script>\n",
              "</div>\n",
              "    </div>\n",
              "  </div>\n"
            ]
          },
          "metadata": {},
          "execution_count": 19
        }
      ],
      "source": [
        "df"
      ]
    },
    {
      "cell_type": "code",
      "execution_count": null,
      "id": "b2b2f37b",
      "metadata": {
        "execution": {
          "iopub.execute_input": "2023-03-07T09:39:08.150411Z",
          "iopub.status.busy": "2023-03-07T09:39:08.149991Z",
          "iopub.status.idle": "2023-03-07T09:39:08.158938Z",
          "shell.execute_reply": "2023-03-07T09:39:08.158227Z"
        },
        "papermill": {
          "duration": 0.024348,
          "end_time": "2023-03-07T09:39:08.161924",
          "exception": false,
          "start_time": "2023-03-07T09:39:08.137576",
          "status": "completed"
        },
        "tags": [],
        "colab": {
          "base_uri": "https://localhost:8080/"
        },
        "id": "b2b2f37b",
        "outputId": "441eadac-8936-4ece-b8df-3947e7965818"
      },
      "outputs": [
        {
          "output_type": "stream",
          "name": "stderr",
          "text": [
            "<ipython-input-20-e580129a9541>:1: SettingWithCopyWarning: \n",
            "A value is trying to be set on a copy of a slice from a DataFrame\n",
            "\n",
            "See the caveats in the documentation: https://pandas.pydata.org/pandas-docs/stable/user_guide/indexing.html#returning-a-view-versus-a-copy\n",
            "  df.drop(columns = ['Education Level', 'Job Title'], inplace = True)\n"
          ]
        }
      ],
      "source": [
        "df.drop(columns = ['Education Level', 'Job Title'], inplace = True)"
      ]
    },
    {
      "cell_type": "code",
      "execution_count": null,
      "id": "efac031f",
      "metadata": {
        "execution": {
          "iopub.execute_input": "2023-03-07T09:39:08.187752Z",
          "iopub.status.busy": "2023-03-07T09:39:08.186958Z",
          "iopub.status.idle": "2023-03-07T09:39:08.191584Z",
          "shell.execute_reply": "2023-03-07T09:39:08.190736Z"
        },
        "papermill": {
          "duration": 0.019756,
          "end_time": "2023-03-07T09:39:08.193791",
          "exception": false,
          "start_time": "2023-03-07T09:39:08.174035",
          "status": "completed"
        },
        "tags": [],
        "id": "efac031f"
      },
      "outputs": [],
      "source": [
        "test_data = df.tail(10)"
      ]
    },
    {
      "cell_type": "code",
      "execution_count": null,
      "id": "4392bdc7",
      "metadata": {
        "execution": {
          "iopub.execute_input": "2023-03-07T09:39:08.217833Z",
          "iopub.status.busy": "2023-03-07T09:39:08.217444Z",
          "iopub.status.idle": "2023-03-07T09:39:08.222095Z",
          "shell.execute_reply": "2023-03-07T09:39:08.220872Z"
        },
        "papermill": {
          "duration": 0.019658,
          "end_time": "2023-03-07T09:39:08.224522",
          "exception": false,
          "start_time": "2023-03-07T09:39:08.204864",
          "status": "completed"
        },
        "tags": [],
        "id": "4392bdc7"
      },
      "outputs": [],
      "source": [
        "df = df.head(363)"
      ]
    },
    {
      "cell_type": "code",
      "execution_count": null,
      "id": "5e046377",
      "metadata": {
        "execution": {
          "iopub.execute_input": "2023-03-07T09:39:08.250474Z",
          "iopub.status.busy": "2023-03-07T09:39:08.249584Z",
          "iopub.status.idle": "2023-03-07T09:39:08.533252Z",
          "shell.execute_reply": "2023-03-07T09:39:08.532287Z"
        },
        "papermill": {
          "duration": 0.300006,
          "end_time": "2023-03-07T09:39:08.535788",
          "exception": false,
          "start_time": "2023-03-07T09:39:08.235782",
          "status": "completed"
        },
        "tags": [],
        "colab": {
          "base_uri": "https://localhost:8080/",
          "height": 466
        },
        "id": "5e046377",
        "outputId": "0482025c-e4d6-4dea-faf1-b762e3db9d9a"
      },
      "outputs": [
        {
          "output_type": "execute_result",
          "data": {
            "text/plain": [
              "<Axes: xlabel='Gender', ylabel='Salary'>"
            ]
          },
          "metadata": {},
          "execution_count": 23
        },
        {
          "output_type": "display_data",
          "data": {
            "text/plain": [
              "<Figure size 640x480 with 1 Axes>"
            ],
            "image/png": "[encoded data removed]"
          },
          "metadata": {}
        }
      ],
      "source": [
        "sns.barplot(x = 'Gender', y = 'Salary', data = df)"
      ]
    },
    {
      "cell_type": "code",
      "execution_count": null,
      "id": "c95a4e5c",
      "metadata": {
        "execution": {
          "iopub.execute_input": "2023-03-07T09:39:08.562094Z",
          "iopub.status.busy": "2023-03-07T09:39:08.561268Z",
          "iopub.status.idle": "2023-03-07T09:39:09.392615Z",
          "shell.execute_reply": "2023-03-07T09:39:09.391460Z"
        },
        "papermill": {
          "duration": 0.847824,
          "end_time": "2023-03-07T09:39:09.395527",
          "exception": false,
          "start_time": "2023-03-07T09:39:08.547703",
          "status": "completed"
        },
        "tags": [],
        "colab": {
          "base_uri": "https://localhost:8080/",
          "height": 466
        },
        "id": "c95a4e5c",
        "outputId": "021f9367-1d1c-46d2-b411-33f231956191"
      },
      "outputs": [
        {
          "output_type": "execute_result",
          "data": {
            "text/plain": [
              "<Axes: xlabel='Years of Experience', ylabel='Salary'>"
            ]
          },
          "metadata": {},
          "execution_count": 7
        },
        {
          "output_type": "display_data",
          "data": {
            "text/plain": [
              "<Figure size 640x480 with 1 Axes>"
            ],
            "image/png": "[encoded data removed]"
          },
          "metadata": {}
        }
      ],
      "source": [
        "sns.lineplot(x = 'Years of Experience', y = 'Salary', data = df)"
      ]
    },
    {
      "cell_type": "code",
      "execution_count": null,
      "id": "9c94b802",
      "metadata": {
        "papermill": {
          "duration": 0.012113,
          "end_time": "2023-03-07T09:39:09.419958",
          "exception": false,
          "start_time": "2023-03-07T09:39:09.407845",
          "status": "completed"
        },
        "tags": [],
        "colab": {
          "base_uri": "https://localhost:8080/",
          "height": 466
        },
        "id": "9c94b802",
        "outputId": "88fb4a84-2d67-4a23-ecfc-682be6bba716"
      },
      "outputs": [
        {
          "output_type": "execute_result",
          "data": {
            "text/plain": [
              "<Axes: xlabel='Age', ylabel='Salary'>"
            ]
          },
          "metadata": {},
          "execution_count": 8
        },
        {
          "output_type": "display_data",
          "data": {
            "text/plain": [
              "<Figure size 640x480 with 1 Axes>"
            ],
            "image/png": "[encoded data removed]"
          },
          "metadata": {}
        }
      ],
      "source": [
        "sns.lineplot(x = 'Age', y = 'Salary', data = df)"
      ]
    },
    {
      "cell_type": "code",
      "execution_count": null,
      "id": "39e9d90d",
      "metadata": {
        "execution": {
          "iopub.execute_input": "2023-03-07T09:39:09.446632Z",
          "iopub.status.busy": "2023-03-07T09:39:09.446232Z",
          "iopub.status.idle": "2023-03-07T09:39:09.630686Z",
          "shell.execute_reply": "2023-03-07T09:39:09.628984Z"
        },
        "papermill": {
          "duration": 0.202247,
          "end_time": "2023-03-07T09:39:09.634557",
          "exception": false,
          "start_time": "2023-03-07T09:39:09.432310",
          "status": "completed"
        },
        "tags": [],
        "colab": {
          "base_uri": "https://localhost:8080/",
          "height": 447
        },
        "id": "39e9d90d",
        "outputId": "b4de4fa1-d638-4f77-ecfe-3d77ec7c1aa3"
      },
      "outputs": [
        {
          "output_type": "execute_result",
          "data": {
            "text/plain": [
              "<Axes: >"
            ]
          },
          "metadata": {},
          "execution_count": 27
        },
        {
          "output_type": "display_data",
          "data": {
            "text/plain": [
              "<Figure size 640x480 with 1 Axes>"
            ],
            "image/png": "[encoded data removed]"
          },
          "metadata": {}
        }
      ],
      "source": [
        "sns.boxplot(df['Salary'])"
      ]
    },
    {
      "cell_type": "code",
      "execution_count": null,
      "id": "48bda6a0",
      "metadata": {
        "execution": {
          "iopub.execute_input": "2023-03-07T09:39:09.665032Z",
          "iopub.status.busy": "2023-03-07T09:39:09.663826Z",
          "iopub.status.idle": "2023-03-07T09:39:10.350328Z",
          "shell.execute_reply": "2023-03-07T09:39:10.349167Z"
        },
        "papermill": {
          "duration": 0.703855,
          "end_time": "2023-03-07T09:39:10.353345",
          "exception": false,
          "start_time": "2023-03-07T09:39:09.649490",
          "status": "completed"
        },
        "tags": [],
        "id": "48bda6a0"
      },
      "outputs": [],
      "source": [
        "from sklearn.model_selection import train_test_split\n",
        "from sklearn.preprocessing import StandardScaler\n",
        "from sklearn.ensemble import RandomForestRegressor\n",
        "from xgboost import XGBRegressor"
      ]
    },
    {
      "cell_type": "code",
      "execution_count": null,
      "id": "5b3dd539",
      "metadata": {
        "execution": {
          "iopub.execute_input": "2023-03-07T09:39:10.382066Z",
          "iopub.status.busy": "2023-03-07T09:39:10.381648Z",
          "iopub.status.idle": "2023-03-07T09:39:10.387714Z",
          "shell.execute_reply": "2023-03-07T09:39:10.386474Z"
        },
        "papermill": {
          "duration": 0.023519,
          "end_time": "2023-03-07T09:39:10.390262",
          "exception": false,
          "start_time": "2023-03-07T09:39:10.366743",
          "status": "completed"
        },
        "tags": [],
        "id": "5b3dd539"
      },
      "outputs": [],
      "source": [
        "X = df.drop(columns = ['Salary'])\n",
        "y = df['Salary']"
      ]
    },
    {
      "cell_type": "code",
      "execution_count": null,
      "id": "d605f1a8",
      "metadata": {
        "execution": {
          "iopub.execute_input": "2023-03-07T09:39:10.418568Z",
          "iopub.status.busy": "2023-03-07T09:39:10.418172Z",
          "iopub.status.idle": "2023-03-07T09:39:10.425458Z",
          "shell.execute_reply": "2023-03-07T09:39:10.424173Z"
        },
        "papermill": {
          "duration": 0.024413,
          "end_time": "2023-03-07T09:39:10.427891",
          "exception": false,
          "start_time": "2023-03-07T09:39:10.403478",
          "status": "completed"
        },
        "tags": [],
        "colab": {
          "base_uri": "https://localhost:8080/"
        },
        "id": "d605f1a8",
        "outputId": "177ba60b-2d48-49f7-ed67-7e885e06c52b"
      },
      "outputs": [
        {
          "output_type": "execute_result",
          "data": {
            "text/plain": [
              "(363, 3)"
            ]
          },
          "metadata": {},
          "execution_count": 36
        }
      ],
      "source": [
        "X.shape"
      ]
    },
    {
      "cell_type": "code",
      "execution_count": null,
      "id": "f4ba12ba",
      "metadata": {
        "execution": {
          "iopub.execute_input": "2023-03-07T09:39:10.456747Z",
          "iopub.status.busy": "2023-03-07T09:39:10.455764Z",
          "iopub.status.idle": "2023-03-07T09:39:10.463038Z",
          "shell.execute_reply": "2023-03-07T09:39:10.461914Z"
        },
        "papermill": {
          "duration": 0.024056,
          "end_time": "2023-03-07T09:39:10.465268",
          "exception": false,
          "start_time": "2023-03-07T09:39:10.441212",
          "status": "completed"
        },
        "tags": [],
        "colab": {
          "base_uri": "https://localhost:8080/"
        },
        "id": "f4ba12ba",
        "outputId": "476013b4-47a6-4edd-eda9-c89770d58bdc"
      },
      "outputs": [
        {
          "output_type": "execute_result",
          "data": {
            "text/plain": [
              "(363,)"
            ]
          },
          "metadata": {},
          "execution_count": 35
        }
      ],
      "source": [
        "y.shape"
      ]
    },
    {
      "cell_type": "code",
      "execution_count": null,
      "id": "6734e470",
      "metadata": {
        "execution": {
          "iopub.execute_input": "2023-03-07T09:39:10.494065Z",
          "iopub.status.busy": "2023-03-07T09:39:10.493235Z",
          "iopub.status.idle": "2023-03-07T09:39:10.503453Z",
          "shell.execute_reply": "2023-03-07T09:39:10.502454Z"
        },
        "papermill": {
          "duration": 0.026996,
          "end_time": "2023-03-07T09:39:10.505629",
          "exception": false,
          "start_time": "2023-03-07T09:39:10.478633",
          "status": "completed"
        },
        "tags": [],
        "id": "6734e470"
      },
      "outputs": [],
      "source": [
        "sc = StandardScaler()\n",
        "X = sc.fit_transform(X)"
      ]
    },
    {
      "cell_type": "code",
      "execution_count": null,
      "id": "12f561c9",
      "metadata": {
        "execution": {
          "iopub.execute_input": "2023-03-07T09:39:10.534376Z",
          "iopub.status.busy": "2023-03-07T09:39:10.533250Z",
          "iopub.status.idle": "2023-03-07T09:39:10.541157Z",
          "shell.execute_reply": "2023-03-07T09:39:10.539987Z"
        },
        "papermill": {
          "duration": 0.024645,
          "end_time": "2023-03-07T09:39:10.543390",
          "exception": false,
          "start_time": "2023-03-07T09:39:10.518745",
          "status": "completed"
        },
        "tags": [],
        "colab": {
          "base_uri": "https://localhost:8080/"
        },
        "id": "12f561c9",
        "outputId": "6bb055e2-5a8d-4400-81f9-9c7b6302b284"
      },
      "outputs": [
        {
          "output_type": "execute_result",
          "data": {
            "text/plain": [
              "(363, 3)"
            ]
          },
          "metadata": {},
          "execution_count": 34
        }
      ],
      "source": [
        "X.shape"
      ]
    },
    {
      "cell_type": "code",
      "execution_count": null,
      "id": "c27b4479",
      "metadata": {
        "execution": {
          "iopub.execute_input": "2023-03-07T09:39:10.572082Z",
          "iopub.status.busy": "2023-03-07T09:39:10.571602Z",
          "iopub.status.idle": "2023-03-07T09:39:10.580670Z",
          "shell.execute_reply": "2023-03-07T09:39:10.579440Z"
        },
        "papermill": {
          "duration": 0.026434,
          "end_time": "2023-03-07T09:39:10.583146",
          "exception": false,
          "start_time": "2023-03-07T09:39:10.556712",
          "status": "completed"
        },
        "tags": [],
        "id": "c27b4479"
      },
      "outputs": [],
      "source": [
        "X_train, X_test, y_train, y_test = train_test_split(X, y, test_size = 0.2, random_state = 0)"
      ]
    },
    {
      "cell_type": "code",
      "execution_count": null,
      "id": "10c82ac2",
      "metadata": {
        "execution": {
          "iopub.execute_input": "2023-03-07T09:39:10.612147Z",
          "iopub.status.busy": "2023-03-07T09:39:10.611698Z",
          "iopub.status.idle": "2023-03-07T09:39:10.617002Z",
          "shell.execute_reply": "2023-03-07T09:39:10.615944Z"
        },
        "papermill": {
          "duration": 0.022352,
          "end_time": "2023-03-07T09:39:10.619354",
          "exception": false,
          "start_time": "2023-03-07T09:39:10.597002",
          "status": "completed"
        },
        "tags": [],
        "id": "10c82ac2"
      },
      "outputs": [],
      "source": [
        "rf = RandomForestRegressor()\n",
        "xg = XGBRegressor()"
      ]
    },
    {
      "cell_type": "code",
      "execution_count": null,
      "id": "28546e1e",
      "metadata": {
        "execution": {
          "iopub.execute_input": "2023-03-07T09:39:10.647574Z",
          "iopub.status.busy": "2023-03-07T09:39:10.647070Z",
          "iopub.status.idle": "2023-03-07T09:39:11.216992Z",
          "shell.execute_reply": "2023-03-07T09:39:11.215650Z"
        },
        "papermill": {
          "duration": 0.586994,
          "end_time": "2023-03-07T09:39:11.219393",
          "exception": false,
          "start_time": "2023-03-07T09:39:10.632399",
          "status": "completed"
        },
        "tags": [],
        "colab": {
          "base_uri": "https://localhost:8080/",
          "height": 249
        },
        "id": "28546e1e",
        "outputId": "71d60459-525f-4eed-f7c3-e5f440a69214"
      },
      "outputs": [
        {
          "output_type": "execute_result",
          "data": {
            "text/plain": [
              "XGBRegressor(base_score=None, booster=None, callbacks=None,\n",
              "             colsample_bylevel=None, colsample_bynode=None,\n",
              "             colsample_bytree=None, device=None, early_stopping_rounds=None,\n",
              "             enable_categorical=False, eval_metric=None, feature_types=None,\n",
              "             gamma=None, grow_policy=None, importance_type=None,\n",
              "             interaction_constraints=None, learning_rate=None, max_bin=None,\n",
              "             max_cat_threshold=None, max_cat_to_onehot=None,\n",
              "             max_delta_step=None, max_depth=None, max_leaves=None,\n",
              "             min_child_weight=None, missing=nan, monotone_constraints=None,\n",
              "             multi_strategy=None, n_estimators=None, n_jobs=None,\n",
              "             num_parallel_tree=None, random_state=None, ...)"
            ],
            "text/html": [
              "<style>#sk-container-id-2 {color: black;background-color: white;}#sk-container-id-2 pre{padding: 0;}#sk-container-id-2 div.sk-toggleable {background-color: white;}#sk-container-id-2 label.sk-toggleable__label {cursor: pointer;display: block;width: 100%;margin-bottom: 0;padding: 0.3em;box-sizing: border-box;text-align: center;}#sk-container-id-2 label.sk-toggleable__label-arrow:before {content: \"▸\";float: left;margin-right: 0.25em;color: #696969;}#sk-container-id-2 label.sk-toggleable__label-arrow:hover:before {color: black;}#sk-container-id-2 div.sk-estimator:hover label.sk-toggleable__label-arrow:before {color: black;}#sk-container-id-2 div.sk-toggleable__content {max-height: 0;max-width: 0;overflow: hidden;text-align: left;background-color: #f0f8ff;}#sk-container-id-2 div.sk-toggleable__content pre {margin: 0.2em;color: black;border-radius: 0.25em;background-color: #f0f8ff;}#sk-container-id-2 input.sk-toggleable__control:checked~div.sk-toggleable__content {max-height: 200px;max-width: 100%;overflow: auto;}#sk-container-id-2 input.sk-toggleable__control:checked~label.sk-toggleable__label-arrow:before {content: \"▾\";}#sk-container-id-2 div.sk-estimator input.sk-toggleable__control:checked~label.sk-toggleable__label {background-color: #d4ebff;}#sk-container-id-2 div.sk-label input.sk-toggleable__control:checked~label.sk-toggleable__label {background-color: #d4ebff;}#sk-container-id-2 input.sk-hidden--visually {border: 0;clip: rect(1px 1px 1px 1px);clip: rect(1px, 1px, 1px, 1px);height: 1px;margin: -1px;overflow: hidden;padding: 0;position: absolute;width: 1px;}#sk-container-id-2 div.sk-estimator {font-family: monospace;background-color: #f0f8ff;border: 1px dotted black;border-radius: 0.25em;box-sizing: border-box;margin-bottom: 0.5em;}#sk-container-id-2 div.sk-estimator:hover {background-color: #d4ebff;}#sk-container-id-2 div.sk-parallel-item::after {content: \"\";width: 100%;border-bottom: 1px solid gray;flex-grow: 1;}#sk-container-id-2 div.sk-label:hover label.sk-toggleable__label {background-color: #d4ebff;}#sk-container-id-2 div.sk-serial::before {content: \"\";position: absolute;border-left: 1px solid gray;box-sizing: border-box;top: 0;bottom: 0;left: 50%;z-index: 0;}#sk-container-id-2 div.sk-serial {display: flex;flex-direction: column;align-items: center;background-color: white;padding-right: 0.2em;padding-left: 0.2em;position: relative;}#sk-container-id-2 div.sk-item {position: relative;z-index: 1;}#sk-container-id-2 div.sk-parallel {display: flex;align-items: stretch;justify-content: center;background-color: white;position: relative;}#sk-container-id-2 div.sk-item::before, #sk-container-id-2 div.sk-parallel-item::before {content: \"\";position: absolute;border-left: 1px solid gray;box-sizing: border-box;top: 0;bottom: 0;left: 50%;z-index: -1;}#sk-container-id-2 div.sk-parallel-item {display: flex;flex-direction: column;z-index: 1;position: relative;background-color: white;}#sk-container-id-2 div.sk-parallel-item:first-child::after {align-self: flex-end;width: 50%;}#sk-container-id-2 div.sk-parallel-item:last-child::after {align-self: flex-start;width: 50%;}#sk-container-id-2 div.sk-parallel-item:only-child::after {width: 0;}#sk-container-id-2 div.sk-dashed-wrapped {border: 1px dashed gray;margin: 0 0.4em 0.5em 0.4em;box-sizing: border-box;padding-bottom: 0.4em;background-color: white;}#sk-container-id-2 div.sk-label label {font-family: monospace;font-weight: bold;display: inline-block;line-height: 1.2em;}#sk-container-id-2 div.sk-label-container {text-align: center;}#sk-container-id-2 div.sk-container {/* jupyter's `normalize.less` sets `[hidden] { display: none; }` but bootstrap.min.css set `[hidden] { display: none !important; }` so we also need the `!important` here to be able to override the default hidden behavior on the sphinx rendered scikit-learn.org. See: https://github.com/scikit-learn/scikit-learn/issues/21755 */display: inline-block !important;position: relative;}#sk-container-id-2 div.sk-text-repr-fallback {display: none;}</style><div id=\"sk-container-id-2\" class=\"sk-top-container\"><div class=\"sk-text-repr-fallback\"><pre>XGBRegressor(base_score=None, booster=None, callbacks=None,\n",
              "             colsample_bylevel=None, colsample_bynode=None,\n",
              "             colsample_bytree=None, device=None, early_stopping_rounds=None,\n",
              "             enable_categorical=False, eval_metric=None, feature_types=None,\n",
              "             gamma=None, grow_policy=None, importance_type=None,\n",
              "             interaction_constraints=None, learning_rate=None, max_bin=None,\n",
              "             max_cat_threshold=None, max_cat_to_onehot=None,\n",
              "             max_delta_step=None, max_depth=None, max_leaves=None,\n",
              "             min_child_weight=None, missing=nan, monotone_constraints=None,\n",
              "             multi_strategy=None, n_estimators=None, n_jobs=None,\n",
              "             num_parallel_tree=None, random_state=None, ...)</pre><b>In a Jupyter environment, please rerun this cell to show the HTML representation or trust the notebook. <br />On GitHub, the HTML representation is unable to render, please try loading this page with nbviewer.org.</b></div><div class=\"sk-container\" hidden><div class=\"sk-item\"><div class=\"sk-estimator sk-toggleable\"><input class=\"sk-toggleable__control sk-hidden--visually\" id=\"sk-estimator-id-2\" type=\"checkbox\" checked><label for=\"sk-estimator-id-2\" class=\"sk-toggleable__label sk-toggleable__label-arrow\">XGBRegressor</label><div class=\"sk-toggleable__content\"><pre>XGBRegressor(base_score=None, booster=None, callbacks=None,\n",
              "             colsample_bylevel=None, colsample_bynode=None,\n",
              "             colsample_bytree=None, device=None, early_stopping_rounds=None,\n",
              "             enable_categorical=False, eval_metric=None, feature_types=None,\n",
              "             gamma=None, grow_policy=None, importance_type=None,\n",
              "             interaction_constraints=None, learning_rate=None, max_bin=None,\n",
              "             max_cat_threshold=None, max_cat_to_onehot=None,\n",
              "             max_delta_step=None, max_depth=None, max_leaves=None,\n",
              "             min_child_weight=None, missing=nan, monotone_constraints=None,\n",
              "             multi_strategy=None, n_estimators=None, n_jobs=None,\n",
              "             num_parallel_tree=None, random_state=None, ...)</pre></div></div></div></div></div>"
            ]
          },
          "metadata": {},
          "execution_count": 39
        }
      ],
      "source": [
        "rf.fit(X_train, y_train)\n",
        "xg.fit(X_train, y_train)"
      ]
    },
    {
      "cell_type": "code",
      "execution_count": null,
      "id": "99ed3927",
      "metadata": {
        "execution": {
          "iopub.execute_input": "2023-03-07T09:39:11.247991Z",
          "iopub.status.busy": "2023-03-07T09:39:11.247494Z",
          "iopub.status.idle": "2023-03-07T09:39:11.254170Z",
          "shell.execute_reply": "2023-03-07T09:39:11.252881Z"
        },
        "papermill": {
          "duration": 0.023894,
          "end_time": "2023-03-07T09:39:11.256506",
          "exception": false,
          "start_time": "2023-03-07T09:39:11.232612",
          "status": "completed"
        },
        "tags": [],
        "id": "99ed3927",
        "outputId": "337c9788-f8b8-41fd-9ac3-a49771fc4538"
      },
      "outputs": [
        {
          "data": {
            "text/plain": [
              "(363, 3)"
            ]
          },
          "execution_count": 29,
          "metadata": {},
          "output_type": "execute_result"
        }
      ],
      "source": [
        "X.shape"
      ]
    },
    {
      "cell_type": "code",
      "execution_count": null,
      "id": "4b536b9b",
      "metadata": {
        "execution": {
          "iopub.execute_input": "2023-03-07T09:39:11.285298Z",
          "iopub.status.busy": "2023-03-07T09:39:11.284822Z",
          "iopub.status.idle": "2023-03-07T09:39:11.309115Z",
          "shell.execute_reply": "2023-03-07T09:39:11.308146Z"
        },
        "papermill": {
          "duration": 0.042077,
          "end_time": "2023-03-07T09:39:11.312322",
          "exception": false,
          "start_time": "2023-03-07T09:39:11.270245",
          "status": "completed"
        },
        "tags": [],
        "id": "4b536b9b"
      },
      "outputs": [],
      "source": [
        "y_pred_rf = rf.predict(X_test)\n",
        "y_pred_xg = xg.predict(X_test)"
      ]
    },
    {
      "cell_type": "code",
      "execution_count": null,
      "id": "4224f6b3",
      "metadata": {
        "execution": {
          "iopub.execute_input": "2023-03-07T09:39:11.342733Z",
          "iopub.status.busy": "2023-03-07T09:39:11.342341Z",
          "iopub.status.idle": "2023-03-07T09:39:11.371293Z",
          "shell.execute_reply": "2023-03-07T09:39:11.370070Z"
        },
        "papermill": {
          "duration": 0.046651,
          "end_time": "2023-03-07T09:39:11.374141",
          "exception": false,
          "start_time": "2023-03-07T09:39:11.327490",
          "status": "completed"
        },
        "tags": [],
        "id": "4224f6b3"
      },
      "outputs": [],
      "source": [
        "train_accuracy_rf = rf.score(X_train,y_train)\n",
        "test_accuracy_rf = rf.score(X_test, y_test)"
      ]
    },
    {
      "cell_type": "code",
      "execution_count": null,
      "id": "56b21444",
      "metadata": {
        "execution": {
          "iopub.execute_input": "2023-03-07T09:39:11.403228Z",
          "iopub.status.busy": "2023-03-07T09:39:11.402793Z",
          "iopub.status.idle": "2023-03-07T09:39:11.408536Z",
          "shell.execute_reply": "2023-03-07T09:39:11.407399Z"
        },
        "papermill": {
          "duration": 0.023376,
          "end_time": "2023-03-07T09:39:11.411275",
          "exception": false,
          "start_time": "2023-03-07T09:39:11.387899",
          "status": "completed"
        },
        "tags": [],
        "colab": {
          "base_uri": "https://localhost:8080/"
        },
        "id": "56b21444",
        "outputId": "0296d046-2446-4612-a484-4b4ed1414e8f"
      },
      "outputs": [
        {
          "output_type": "stream",
          "name": "stdout",
          "text": [
            "train_accuracy_rf: 0.9486157513671623\n",
            "test_accuracy_rf: 0.8885996897365289\n"
          ]
        }
      ],
      "source": [
        "print('train_accuracy_rf:', train_accuracy_rf)\n",
        "print('test_accuracy_rf:', test_accuracy_rf)"
      ]
    },
    {
      "cell_type": "code",
      "execution_count": null,
      "id": "274afa02",
      "metadata": {
        "execution": {
          "iopub.execute_input": "2023-03-07T09:39:11.440256Z",
          "iopub.status.busy": "2023-03-07T09:39:11.439789Z",
          "iopub.status.idle": "2023-03-07T09:39:11.457509Z",
          "shell.execute_reply": "2023-03-07T09:39:11.456479Z"
        },
        "papermill": {
          "duration": 0.035556,
          "end_time": "2023-03-07T09:39:11.460266",
          "exception": false,
          "start_time": "2023-03-07T09:39:11.424710",
          "status": "completed"
        },
        "tags": [],
        "id": "274afa02"
      },
      "outputs": [],
      "source": [
        "train_accuracy_xg = xg.score(X_train,y_train)\n",
        "test_accuracy_xg = xg.score(X_test, y_test)"
      ]
    },
    {
      "cell_type": "code",
      "execution_count": null,
      "id": "a3ac07c2",
      "metadata": {
        "execution": {
          "iopub.execute_input": "2023-03-07T09:39:11.491787Z",
          "iopub.status.busy": "2023-03-07T09:39:11.490770Z",
          "iopub.status.idle": "2023-03-07T09:39:11.496545Z",
          "shell.execute_reply": "2023-03-07T09:39:11.495697Z"
        },
        "papermill": {
          "duration": 0.023439,
          "end_time": "2023-03-07T09:39:11.499336",
          "exception": false,
          "start_time": "2023-03-07T09:39:11.475897",
          "status": "completed"
        },
        "tags": [],
        "colab": {
          "base_uri": "https://localhost:8080/"
        },
        "id": "a3ac07c2",
        "outputId": "0c87018e-70ea-4bbf-eaf3-417e64cb3437"
      },
      "outputs": [
        {
          "output_type": "stream",
          "name": "stdout",
          "text": [
            "train_accuracy_xg: 0.9585752633021621\n",
            "test_accuracy_xg: 0.881430580331474\n"
          ]
        }
      ],
      "source": [
        "print('train_accuracy_xg:', train_accuracy_xg)\n",
        "print('test_accuracy_xg:', test_accuracy_xg)"
      ]
    },
    {
      "cell_type": "code",
      "execution_count": null,
      "id": "52381f9b",
      "metadata": {
        "execution": {
          "iopub.execute_input": "2023-03-07T09:39:11.529776Z",
          "iopub.status.busy": "2023-03-07T09:39:11.529256Z",
          "iopub.status.idle": "2023-03-07T09:39:11.537271Z",
          "shell.execute_reply": "2023-03-07T09:39:11.536298Z"
        },
        "papermill": {
          "duration": 0.025458,
          "end_time": "2023-03-07T09:39:11.539564",
          "exception": false,
          "start_time": "2023-03-07T09:39:11.514106",
          "status": "completed"
        },
        "tags": [],
        "id": "52381f9b"
      },
      "outputs": [],
      "source": [
        "from sklearn.metrics import mean_absolute_error, mean_squared_error, r2_score\n",
        "mae = mean_absolute_error(y_test, y_pred_rf)\n",
        "mse = mean_squared_error(y_test, y_pred_rf)\n",
        "r2 = r2_score(y_test, y_pred_rf)"
      ]
    },
    {
      "cell_type": "code",
      "execution_count": null,
      "id": "d822d448",
      "metadata": {
        "execution": {
          "iopub.execute_input": "2023-03-07T09:39:11.569726Z",
          "iopub.status.busy": "2023-03-07T09:39:11.569019Z",
          "iopub.status.idle": "2023-03-07T09:39:11.576914Z",
          "shell.execute_reply": "2023-03-07T09:39:11.574868Z"
        },
        "papermill": {
          "duration": 0.026329,
          "end_time": "2023-03-07T09:39:11.579623",
          "exception": false,
          "start_time": "2023-03-07T09:39:11.553294",
          "status": "completed"
        },
        "tags": [],
        "colab": {
          "base_uri": "https://localhost:8080/"
        },
        "id": "d822d448",
        "outputId": "ca6368cc-319f-4bfd-d72d-90d1dcfbedbd"
      },
      "outputs": [
        {
          "output_type": "stream",
          "name": "stdout",
          "text": [
            "mae: 9063.727937663554\n",
            "mse: 218670928.03443906\n",
            "r2: 0.8885996897365289\n"
          ]
        }
      ],
      "source": [
        "print('mae:', mae)\n",
        "print('mse:', mse)\n",
        "print('r2:', r2)"
      ]
    },
    {
      "cell_type": "code",
      "execution_count": null,
      "id": "d25e8637",
      "metadata": {
        "execution": {
          "iopub.execute_input": "2023-03-07T09:39:11.609776Z",
          "iopub.status.busy": "2023-03-07T09:39:11.609101Z",
          "iopub.status.idle": "2023-03-07T09:39:11.622750Z",
          "shell.execute_reply": "2023-03-07T09:39:11.621770Z"
        },
        "papermill": {
          "duration": 0.031388,
          "end_time": "2023-03-07T09:39:11.625137",
          "exception": false,
          "start_time": "2023-03-07T09:39:11.593749",
          "status": "completed"
        },
        "tags": [],
        "colab": {
          "base_uri": "https://localhost:8080/",
          "height": 363
        },
        "id": "d25e8637",
        "outputId": "2cd3e9e3-9535-4b34-ce59-b5f1cc8036c4"
      },
      "outputs": [
        {
          "output_type": "execute_result",
          "data": {
            "text/plain": [
              "      Age  Gender  Years of Experience    Salary\n",
              "365  43.0       0                 18.0  170000.0\n",
              "366  31.0       1                  3.0   50000.0\n",
              "367  41.0       0                 14.0  150000.0\n",
              "368  44.0       1                 16.0  160000.0\n",
              "369  33.0       0                  4.0   60000.0\n",
              "370  35.0       1                  8.0   85000.0\n",
              "371  43.0       0                 19.0  170000.0\n",
              "372  29.0       1                  2.0   40000.0\n",
              "373  34.0       0                  7.0   90000.0\n",
              "374  44.0       1                 15.0  150000.0"
            ],
            "text/html": [
              "\n",
              "  <div id=\"df-b5559442-53be-433c-8998-ee9e64ab6a49\" class=\"colab-df-container\">\n",
              "    <div>\n",
              "<style scoped>\n",
              "    .dataframe tbody tr th:only-of-type {\n",
              "        vertical-align: middle;\n",
              "    }\n",
              "\n",
              "    .dataframe tbody tr th {\n",
              "        vertical-align: top;\n",
              "    }\n",
              "\n",
              "    .dataframe thead th {\n",
              "        text-align: right;\n",
              "    }\n",
              "</style>\n",
              "<table border=\"1\" class=\"dataframe\">\n",
              "  <thead>\n",
              "    <tr style=\"text-align: right;\">\n",
              "      <th></th>\n",
              "      <th>Age</th>\n",
              "      <th>Gender</th>\n",
              "      <th>Years of Experience</th>\n",
              "      <th>Salary</th>\n",
              "    </tr>\n",
              "  </thead>\n",
              "  <tbody>\n",
              "    <tr>\n",
              "      <th>365</th>\n",
              "      <td>43.0</td>\n",
              "      <td>0</td>\n",
              "      <td>18.0</td>\n",
              "      <td>170000.0</td>\n",
              "    </tr>\n",
              "    <tr>\n",
              "      <th>366</th>\n",
              "      <td>31.0</td>\n",
              "      <td>1</td>\n",
              "      <td>3.0</td>\n",
              "      <td>50000.0</td>\n",
              "    </tr>\n",
              "    <tr>\n",
              "      <th>367</th>\n",
              "      <td>41.0</td>\n",
              "      <td>0</td>\n",
              "      <td>14.0</td>\n",
              "      <td>150000.0</td>\n",
              "    </tr>\n",
              "    <tr>\n",
              "      <th>368</th>\n",
              "      <td>44.0</td>\n",
              "      <td>1</td>\n",
              "      <td>16.0</td>\n",
              "      <td>160000.0</td>\n",
              "    </tr>\n",
              "    <tr>\n",
              "      <th>369</th>\n",
              "      <td>33.0</td>\n",
              "      <td>0</td>\n",
              "      <td>4.0</td>\n",
              "      <td>60000.0</td>\n",
              "    </tr>\n",
              "    <tr>\n",
              "      <th>370</th>\n",
              "      <td>35.0</td>\n",
              "      <td>1</td>\n",
              "      <td>8.0</td>\n",
              "      <td>85000.0</td>\n",
              "    </tr>\n",
              "    <tr>\n",
              "      <th>371</th>\n",
              "      <td>43.0</td>\n",
              "      <td>0</td>\n",
              "      <td>19.0</td>\n",
              "      <td>170000.0</td>\n",
              "    </tr>\n",
              "    <tr>\n",
              "      <th>372</th>\n",
              "      <td>29.0</td>\n",
              "      <td>1</td>\n",
              "      <td>2.0</td>\n",
              "      <td>40000.0</td>\n",
              "    </tr>\n",
              "    <tr>\n",
              "      <th>373</th>\n",
              "      <td>34.0</td>\n",
              "      <td>0</td>\n",
              "      <td>7.0</td>\n",
              "      <td>90000.0</td>\n",
              "    </tr>\n",
              "    <tr>\n",
              "      <th>374</th>\n",
              "      <td>44.0</td>\n",
              "      <td>1</td>\n",
              "      <td>15.0</td>\n",
              "      <td>150000.0</td>\n",
              "    </tr>\n",
              "  </tbody>\n",
              "</table>\n",
              "</div>\n",
              "    <div class=\"colab-df-buttons\">\n",
              "\n",
              "  <div class=\"colab-df-container\">\n",
              "    <button class=\"colab-df-convert\" onclick=\"convertToInteractive('df-b5559442-53be-433c-8998-ee9e64ab6a49')\"\n",
              "            title=\"Convert this dataframe to an interactive table.\"\n",
              "            style=\"display:none;\">\n",
              "\n",
              "  <svg xmlns=\"http://www.w3.org/2000/svg\" height=\"24px\" viewBox=\"0 -960 960 960\">\n",
              "    <path d=\"M120-120v-720h720v720H120Zm60-500h600v-160H180v160Zm220 220h160v-160H400v160Zm0 220h160v-160H400v160ZM180-400h160v-160H180v160Zm440 0h160v-160H620v160ZM180-180h160v-160H180v160Zm440 0h160v-160H620v160Z\"/>\n",
              "  </svg>\n",
              "    </button>\n",
              "\n",
              "  <style>\n",
              "    .colab-df-container {\n",
              "      display:flex;\n",
              "      gap: 12px;\n",
              "    }\n",
              "\n",
              "    .colab-df-convert {\n",
              "      background-color: #E8F0FE;\n",
              "      border: none;\n",
              "      border-radius: 50%;\n",
              "      cursor: pointer;\n",
              "      display: none;\n",
              "      fill: #1967D2;\n",
              "      height: 32px;\n",
              "      padding: 0 0 0 0;\n",
              "      width: 32px;\n",
              "    }\n",
              "\n",
              "    .colab-df-convert:hover {\n",
              "      background-color: #E2EBFA;\n",
              "      box-shadow: 0px 1px 2px rgba(60, 64, 67, 0.3), 0px 1px 3px 1px rgba(60, 64, 67, 0.15);\n",
              "      fill: #174EA6;\n",
              "    }\n",
              "\n",
              "    .colab-df-buttons div {\n",
              "      margin-bottom: 4px;\n",
              "    }\n",
              "\n",
              "    [theme=dark] .colab-df-convert {\n",
              "      background-color: #3B4455;\n",
              "      fill: #D2E3FC;\n",
              "    }\n",
              "\n",
              "    [theme=dark] .colab-df-convert:hover {\n",
              "      background-color: #434B5C;\n",
              "      box-shadow: 0px 1px 3px 1px rgba(0, 0, 0, 0.15);\n",
              "      filter: drop-shadow(0px 1px 2px rgba(0, 0, 0, 0.3));\n",
              "      fill: #FFFFFF;\n",
              "    }\n",
              "  </style>\n",
              "\n",
              "    <script>\n",
              "      const buttonEl =\n",
              "        document.querySelector('#df-b5559442-53be-433c-8998-ee9e64ab6a49 button.colab-df-convert');\n",
              "      buttonEl.style.display =\n",
              "        google.colab.kernel.accessAllowed ? 'block' : 'none';\n",
              "\n",
              "      async function convertToInteractive(key) {\n",
              "        const element = document.querySelector('#df-b5559442-53be-433c-8998-ee9e64ab6a49');\n",
              "        const dataTable =\n",
              "          await google.colab.kernel.invokeFunction('convertToInteractive',\n",
              "                                                    [key], {});\n",
              "        if (!dataTable) return;\n",
              "\n",
              "        const docLinkHtml = 'Like what you see? Visit the ' +\n",
              "          '<a target=\"_blank\" href=https://colab.research.google.com/notebooks/data_table.ipynb>data table notebook</a>'\n",
              "          + ' to learn more about interactive tables.';\n",
              "        element.innerHTML = '';\n",
              "        dataTable['output_type'] = 'display_data';\n",
              "        await google.colab.output.renderOutput(dataTable, element);\n",
              "        const docLink = document.createElement('div');\n",
              "        docLink.innerHTML = docLinkHtml;\n",
              "        element.appendChild(docLink);\n",
              "      }\n",
              "    </script>\n",
              "  </div>\n",
              "\n",
              "\n",
              "<div id=\"df-c765e9c0-ce5d-4e07-999f-f70034edd91d\">\n",
              "  <button class=\"colab-df-quickchart\" onclick=\"quickchart('df-c765e9c0-ce5d-4e07-999f-f70034edd91d')\"\n",
              "            title=\"Suggest charts\"\n",
              "            style=\"display:none;\">\n",
              "\n",
              "<svg xmlns=\"http://www.w3.org/2000/svg\" height=\"24px\"viewBox=\"0 0 24 24\"\n",
              "     width=\"24px\">\n",
              "    <g>\n",
              "        <path d=\"M19 3H5c-1.1 0-2 .9-2 2v14c0 1.1.9 2 2 2h14c1.1 0 2-.9 2-2V5c0-1.1-.9-2-2-2zM9 17H7v-7h2v7zm4 0h-2V7h2v10zm4 0h-2v-4h2v4z\"/>\n",
              "    </g>\n",
              "</svg>\n",
              "  </button>\n",
              "\n",
              "<style>\n",
              "  .colab-df-quickchart {\n",
              "      --bg-color: #E8F0FE;\n",
              "      --fill-color: #1967D2;\n",
              "      --hover-bg-color: #E2EBFA;\n",
              "      --hover-fill-color: #174EA6;\n",
              "      --disabled-fill-color: #AAA;\n",
              "      --disabled-bg-color: #DDD;\n",
              "  }\n",
              "\n",
              "  [theme=dark] .colab-df-quickchart {\n",
              "      --bg-color: #3B4455;\n",
              "      --fill-color: #D2E3FC;\n",
              "      --hover-bg-color: #434B5C;\n",
              "      --hover-fill-color: #FFFFFF;\n",
              "      --disabled-bg-color: #3B4455;\n",
              "      --disabled-fill-color: #666;\n",
              "  }\n",
              "\n",
              "  .colab-df-quickchart {\n",
              "    background-color: var(--bg-color);\n",
              "    border: none;\n",
              "    border-radius: 50%;\n",
              "    cursor: pointer;\n",
              "    display: none;\n",
              "    fill: var(--fill-color);\n",
              "    height: 32px;\n",
              "    padding: 0;\n",
              "    width: 32px;\n",
              "  }\n",
              "\n",
              "  .colab-df-quickchart:hover {\n",
              "    background-color: var(--hover-bg-color);\n",
              "    box-shadow: 0 1px 2px rgba(60, 64, 67, 0.3), 0 1px 3px 1px rgba(60, 64, 67, 0.15);\n",
              "    fill: var(--button-hover-fill-color);\n",
              "  }\n",
              "\n",
              "  .colab-df-quickchart-complete:disabled,\n",
              "  .colab-df-quickchart-complete:disabled:hover {\n",
              "    background-color: var(--disabled-bg-color);\n",
              "    fill: var(--disabled-fill-color);\n",
              "    box-shadow: none;\n",
              "  }\n",
              "\n",
              "  .colab-df-spinner {\n",
              "    border: 2px solid var(--fill-color);\n",
              "    border-color: transparent;\n",
              "    border-bottom-color: var(--fill-color);\n",
              "    animation:\n",
              "      spin 1s steps(1) infinite;\n",
              "  }\n",
              "\n",
              "  @keyframes spin {\n",
              "    0% {\n",
              "      border-color: transparent;\n",
              "      border-bottom-color: var(--fill-color);\n",
              "      border-left-color: var(--fill-color);\n",
              "    }\n",
              "    20% {\n",
              "      border-color: transparent;\n",
              "      border-left-color: var(--fill-color);\n",
              "      border-top-color: var(--fill-color);\n",
              "    }\n",
              "    30% {\n",
              "      border-color: transparent;\n",
              "      border-left-color: var(--fill-color);\n",
              "      border-top-color: var(--fill-color);\n",
              "      border-right-color: var(--fill-color);\n",
              "    }\n",
              "    40% {\n",
              "      border-color: transparent;\n",
              "      border-right-color: var(--fill-color);\n",
              "      border-top-color: var(--fill-color);\n",
              "    }\n",
              "    60% {\n",
              "      border-color: transparent;\n",
              "      border-right-color: var(--fill-color);\n",
              "    }\n",
              "    80% {\n",
              "      border-color: transparent;\n",
              "      border-right-color: var(--fill-color);\n",
              "      border-bottom-color: var(--fill-color);\n",
              "    }\n",
              "    90% {\n",
              "      border-color: transparent;\n",
              "      border-bottom-color: var(--fill-color);\n",
              "    }\n",
              "  }\n",
              "</style>\n",
              "\n",
              "  <script>\n",
              "    async function quickchart(key) {\n",
              "      const quickchartButtonEl =\n",
              "        document.querySelector('#' + key + ' button');\n",
              "      quickchartButtonEl.disabled = true;  // To prevent multiple clicks.\n",
              "      quickchartButtonEl.classList.add('colab-df-spinner');\n",
              "      try {\n",
              "        const charts = await google.colab.kernel.invokeFunction(\n",
              "            'suggestCharts', [key], {});\n",
              "      } catch (error) {\n",
              "        console.error('Error during call to suggestCharts:', error);\n",
              "      }\n",
              "      quickchartButtonEl.classList.remove('colab-df-spinner');\n",
              "      quickchartButtonEl.classList.add('colab-df-quickchart-complete');\n",
              "    }\n",
              "    (() => {\n",
              "      let quickchartButtonEl =\n",
              "        document.querySelector('#df-c765e9c0-ce5d-4e07-999f-f70034edd91d button');\n",
              "      quickchartButtonEl.style.display =\n",
              "        google.colab.kernel.accessAllowed ? 'block' : 'none';\n",
              "    })();\n",
              "  </script>\n",
              "</div>\n",
              "    </div>\n",
              "  </div>\n"
            ]
          },
          "metadata": {},
          "execution_count": 47
        }
      ],
      "source": [
        "test_data"
      ]
    },
    {
      "cell_type": "code",
      "execution_count": null,
      "id": "65149076",
      "metadata": {
        "execution": {
          "iopub.execute_input": "2023-03-07T09:39:11.656022Z",
          "iopub.status.busy": "2023-03-07T09:39:11.655276Z",
          "iopub.status.idle": "2023-03-07T09:39:11.662431Z",
          "shell.execute_reply": "2023-03-07T09:39:11.660956Z"
        },
        "papermill": {
          "duration": 0.025568,
          "end_time": "2023-03-07T09:39:11.664966",
          "exception": false,
          "start_time": "2023-03-07T09:39:11.639398",
          "status": "completed"
        },
        "tags": [],
        "colab": {
          "base_uri": "https://localhost:8080/"
        },
        "id": "65149076",
        "outputId": "794898be-f208-4248-dead-5f4e89107fe4"
      },
      "outputs": [
        {
          "output_type": "stream",
          "name": "stderr",
          "text": [
            "<ipython-input-48-79129d8a9f44>:1: SettingWithCopyWarning: \n",
            "A value is trying to be set on a copy of a slice from a DataFrame\n",
            "\n",
            "See the caveats in the documentation: https://pandas.pydata.org/pandas-docs/stable/user_guide/indexing.html#returning-a-view-versus-a-copy\n",
            "  test_data.drop(columns = ['Salary'], inplace = True)\n"
          ]
        }
      ],
      "source": [
        "test_data.drop(columns = ['Salary'], inplace = True)"
      ]
    },
    {
      "cell_type": "code",
      "execution_count": null,
      "id": "daf123b1",
      "metadata": {
        "execution": {
          "iopub.execute_input": "2023-03-07T09:39:11.695994Z",
          "iopub.status.busy": "2023-03-07T09:39:11.695551Z",
          "iopub.status.idle": "2023-03-07T09:39:11.702885Z",
          "shell.execute_reply": "2023-03-07T09:39:11.701832Z"
        },
        "papermill": {
          "duration": 0.025614,
          "end_time": "2023-03-07T09:39:11.705089",
          "exception": false,
          "start_time": "2023-03-07T09:39:11.679475",
          "status": "completed"
        },
        "tags": [],
        "colab": {
          "base_uri": "https://localhost:8080/"
        },
        "id": "daf123b1",
        "outputId": "16941dd7-93f4-46fa-aff6-d16d4abd70d8"
      },
      "outputs": [
        {
          "output_type": "execute_result",
          "data": {
            "text/plain": [
              "Index(['Age', 'Gender', 'Years of Experience'], dtype='object')"
            ]
          },
          "metadata": {},
          "execution_count": 49
        }
      ],
      "source": [
        "test_data.columns"
      ]
    },
    {
      "cell_type": "code",
      "execution_count": null,
      "id": "c22052c4",
      "metadata": {
        "execution": {
          "iopub.execute_input": "2023-03-07T09:39:11.736294Z",
          "iopub.status.busy": "2023-03-07T09:39:11.735577Z",
          "iopub.status.idle": "2023-03-07T09:39:11.754024Z",
          "shell.execute_reply": "2023-03-07T09:39:11.753144Z"
        },
        "papermill": {
          "duration": 0.037366,
          "end_time": "2023-03-07T09:39:11.757087",
          "exception": false,
          "start_time": "2023-03-07T09:39:11.719721",
          "status": "completed"
        },
        "tags": [],
        "colab": {
          "base_uri": "https://localhost:8080/"
        },
        "id": "c22052c4",
        "outputId": "7486a93c-e065-40ed-8a3e-58987bcf3da7"
      },
      "outputs": [
        {
          "output_type": "stream",
          "name": "stderr",
          "text": [
            "/usr/local/lib/python3.10/dist-packages/sklearn/base.py:432: UserWarning: X has feature names, but RandomForestRegressor was fitted without feature names\n",
            "  warnings.warn(\n"
          ]
        }
      ],
      "source": [
        "predictions = rf.predict(test_data)"
      ]
    },
    {
      "cell_type": "code",
      "execution_count": null,
      "id": "26c14969",
      "metadata": {
        "execution": {
          "iopub.execute_input": "2023-03-07T09:39:11.788231Z",
          "iopub.status.busy": "2023-03-07T09:39:11.787790Z",
          "iopub.status.idle": "2023-03-07T09:39:11.795311Z",
          "shell.execute_reply": "2023-03-07T09:39:11.794129Z"
        },
        "papermill": {
          "duration": 0.025679,
          "end_time": "2023-03-07T09:39:11.797623",
          "exception": false,
          "start_time": "2023-03-07T09:39:11.771944",
          "status": "completed"
        },
        "tags": [],
        "colab": {
          "base_uri": "https://localhost:8080/"
        },
        "id": "26c14969",
        "outputId": "85726b22-6b1a-4e77-b6fd-966b2406faca"
      },
      "outputs": [
        {
          "output_type": "execute_result",
          "data": {
            "text/plain": [
              "array([197900., 180400., 197900., 180400., 197900., 180400., 197900.,\n",
              "       190625., 197900., 180400.])"
            ]
          },
          "metadata": {},
          "execution_count": 51
        }
      ],
      "source": [
        "predictions"
      ]
    },
    {
      "cell_type": "code",
      "execution_count": null,
      "id": "7d6237aa",
      "metadata": {
        "papermill": {
          "duration": 0.013398,
          "end_time": "2023-03-07T09:39:11.824668",
          "exception": false,
          "start_time": "2023-03-07T09:39:11.811270",
          "status": "completed"
        },
        "tags": [],
        "colab": {
          "base_uri": "https://localhost:8080/"
        },
        "id": "7d6237aa",
        "outputId": "faaf068a-1aca-4d56-f714-54bc62d1b537"
      },
      "outputs": [
        {
          "output_type": "stream",
          "name": "stdout",
          "text": [
            "Введіть свій вік: 19\n",
            "Введіть кількість років досвіду: 0.25\n",
            "На основі введених даних, прогнозована зарплатня: 24123.33\n"
          ]
        }
      ],
      "source": [
        "import numpy as np\n",
        "from sklearn.model_selection import train_test_split\n",
        "from sklearn.linear_model import LinearRegression\n",
        "\n",
        "# Припустимо, у нас є деякі вигадані дані (ви маєте замінити їх своїми даними)\n",
        "# Вік, Роки досвіду\n",
        "X = np.array([[25, 2], [30, 5], [35, 9], [40, 14], [45, 20]])\n",
        "# Зарплатня\n",
        "y = np.array([35000, 47000, 55000, 61000, 72000])\n",
        "\n",
        "# Розділення даних на тренувальні та тестові набори\n",
        "X_train, X_test, y_train, y_test = train_test_split(X, y, test_size=0.2, random_state=0)\n",
        "\n",
        "# Створення моделі лінійної регресії\n",
        "model = LinearRegression()\n",
        "\n",
        "# Навчання моделі за допомогою тренувальних даних\n",
        "model.fit(X_train, y_train)\n",
        "\n",
        "# Запит від користувача ввести вік та роки досвіду\n",
        "user_age = float(input(\"Введіть свій вік: \"))\n",
        "user_experience = float(input(\"Введіть кількість років досвіду: \"))\n",
        "\n",
        "# Використання моделі для передбачення зарплати\n",
        "predicted_salary = model.predict([[user_age, user_experience]])\n",
        "\n",
        "# Виведення прогнозованої зарплати\n",
        "print(f\"На основі введених даних, прогнозована зарплатня: {predicted_salary[0]:.2f}\")\n"
      ]
    },
    {
      "cell_type": "code",
      "source": [
        "import numpy as np\n",
        "import pandas as pd\n",
        "from sklearn.model_selection import train_test_split\n",
        "from sklearn.linear_model import LinearRegression\n",
        "from sklearn.preprocessing import LabelEncoder\n",
        "\n",
        "# Завантаження даних з файлу\n",
        "# Вкажіть правильний шлях до файлу\n",
        "\n",
        "\n",
        "# Заміна пропущених значень та нескінченних значень на 0\n",
        "df = df.replace([np.nan, -np.inf], 0)\n",
        "\n",
        "# Дані\n",
        "age = df['Age']  # Вік\n",
        "years_of_experience = df['Years of Experience']  # Роки досвіду\n",
        "gender = df['Gender']  # Стать\n",
        "salary = df['Salary']  # Зарплатня\n",
        "\n",
        "df['Gender'] = df['Gender'].astype(str)\n",
        "\n",
        "# Потім виконати кодування та побудову моделі як раніше\n",
        "le = LabelEncoder()\n",
        "gender_encoded = le.fit_transform(df['Gender'])\n",
        "\n",
        "\n",
        "# Об'єднання ознак в масив X\n",
        "X = np.column_stack((age, years_of_experience, gender_encoded))\n",
        "\n",
        "# Розділення даних на тренувальні та тестові набори\n",
        "X_train, X_test, y_train, y_test = train_test_split(X, salary, test_size=0.2, random_state=0)\n",
        "\n",
        "# Створення моделі лінійної регресії\n",
        "model = LinearRegression()\n",
        "\n",
        "# Навчання моделі за допомогою тренувальних даних\n",
        "model.fit(X_train, y_train)\n",
        "\n",
        "# Запит від користувача ввести вік, роки досвіду та стать\n",
        "user_age = float(input(\"Введіть свій вік: \"))\n",
        "user_experience = float(input(\"Введіть кількість років досвіду: \"))\n",
        "user_gender = input(\"Введіть вашу стать (Male/Female): \")\n",
        "\n",
        "# Кодування статі користувача\n",
        "user_gender_encoded = le.transform([user_gender])\n",
        "\n",
        "# Використання моделі для передбачення зарплати\n",
        "predicted_salary = model.predict([[user_age, user_experience, user_gender_encoded[0]]])\n",
        "\n",
        "# Виведення прогнозованої зарплати\n",
        "print(f\"На основі введених даних, прогнозована зарплатня: {predicted_salary[0]:.2f}\")\n"
      ],
      "metadata": {
        "colab": {
          "base_uri": "https://localhost:8080/"
        },
        "id": "r8c8cEAF3M21",
        "outputId": "a5aa74a4-3346-4e15-c4da-7fd8fc8cede1"
      },
      "id": "r8c8cEAF3M21",
      "execution_count": null,
      "outputs": [
        {
          "output_type": "stream",
          "name": "stdout",
          "text": [
            "Введіть свій вік: 33\n",
            "Введіть кількість років досвіду: 3\n",
            "Введіть вашу стать (Male/Female): Male\n",
            "На основі введених даних, прогнозована зарплатня: 59168.69\n"
          ]
        }
      ]
    }
  ],
  "metadata": {
    "kernelspec": {
      "display_name": "Python 3",
      "language": "python",
      "name": "python3"
    },
    "language_info": {
      "codemirror_mode": {
        "name": "ipython",
        "version": 3
      },
      "file_extension": ".py",
      "mimetype": "text/x-python",
      "name": "python",
      "nbconvert_exporter": "python",
      "pygments_lexer": "ipython3",
      "version": "3.7.12"
    },
    "papermill": {
      "default_parameters": {},
      "duration": 17.191348,
      "end_time": "2023-03-07T09:39:12.662503",
      "environment_variables": {},
      "exception": null,
      "input_path": "__notebook__.ipynb",
      "output_path": "__notebook__.ipynb",
      "parameters": {},
      "start_time": "2023-03-07T09:38:55.471155",
      "version": "2.4.0"
    },
    "colab": {
      "provenance": []
    }
  },
  "nbformat": 4,
  "nbformat_minor": 5
}